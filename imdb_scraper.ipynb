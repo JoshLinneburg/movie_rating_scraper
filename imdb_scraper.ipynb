{
 "cells": [
  {
   "cell_type": "code",
   "execution_count": 1,
   "metadata": {},
   "outputs": [],
   "source": [
    "import requests\n",
    "import json\n",
    "import pandas\n",
    "import bs4\n",
    "from bs4 import BeautifulSoup as bs\n",
    "import unicodedata\n",
    "import re"
   ]
  },
  {
   "cell_type": "code",
   "execution_count": 2,
   "metadata": {},
   "outputs": [],
   "source": [
    "# Scrape elements about a movie based on a search"
   ]
  },
  {
   "cell_type": "code",
   "execution_count": 3,
   "metadata": {},
   "outputs": [],
   "source": [
    "baseurl = 'https://www.imdb.com'\n",
    "endpoint = '/search/title'\n",
    "params = {'title':'The Return of the King', 'genres':('adventure')}"
   ]
  },
  {
   "cell_type": "code",
   "execution_count": 4,
   "metadata": {},
   "outputs": [],
   "source": [
    "response = requests.get(baseurl + endpoint, params = params).text\n",
    "soup = bs(response)\n",
    "movieurl = baseurl + soup.find('div', {'class':'lister-item-image float-left'}).find('a')['href']"
   ]
  },
  {
   "cell_type": "code",
   "execution_count": 5,
   "metadata": {},
   "outputs": [],
   "source": [
    "moviedict = {}\n",
    "response = requests.get(movieurl).text\n",
    "soup = bs(response)\n",
    "\n",
    "main_bottom = soup.findAll('div', {'class':'main', 'id':'main_bottom'})[0]\n",
    "main_bottom_details = main_bottom.find('div', {'class':'article', 'id':'titleDetails'})\n",
    "\n",
    "paren_year_regex = '\\(\\d{4}\\)'\n",
    "release_dt_regex = ': (\\w+ .+\\))'\n",
    "\n",
    "title = re.sub(paren_year_regex, '', unicodedata.normalize(\"NFKD\", soup.find('h1').text.strip())).strip()\n",
    "description = soup.find('div', class_='summary_text').text.strip()\n",
    "\n",
    "regex_search = re.search(release_dt_regex, unicodedata.normalize(\"NFKD\", main_bottom_details.findAll('div',{'class':'txt-block'})[3].text))\n",
    "release_date = regex_search[1]\n",
    "country = main_bottom_details.findAll('div',{'class':'txt-block'})[1].text.replace('|', '').replace('\\n\\n', '\\n').strip().split('\\n')[1:]\n",
    "language = main_bottom_details.findAll('div',{'class':'txt-block'})[2].text.replace('|', '').replace('\\n\\n', '\\n').strip().split('\\n')[1:]"
   ]
  },
  {
   "cell_type": "code",
   "execution_count": 6,
   "metadata": {},
   "outputs": [
    {
     "name": "stdout",
     "output_type": "stream",
     "text": [
      "Not in the list\n"
     ]
    }
   ],
   "source": [
    "tag_list = []\n",
    "for tag in main_bottom_details.findAll('h4', {'class':'inline'}):\n",
    "    tag_list.append(tag.text.strip(':').lower())\n",
    "\n",
    "attr_to_find = 'blah'\n",
    "try:\n",
    "    tag_list.index(attr_to_find.lower())\n",
    "except ValueError:\n",
    "    print('Not in the list')"
   ]
  },
  {
   "cell_type": "code",
   "execution_count": 7,
   "metadata": {},
   "outputs": [
    {
     "data": {
      "text/plain": [
       "['English', 'Quenya', 'Old English', 'Sindarin']"
      ]
     },
     "execution_count": 7,
     "metadata": {},
     "output_type": "execute_result"
    }
   ],
   "source": [
    "unicodedata.normalize(\"NFKD\", main_bottom_details.findAll('div',{'class':'txt-block'})[2].text).replace('|', '').replace('\\n\\n', '\\n').strip().split('\\n')[1:]"
   ]
  }
 ],
 "metadata": {
  "kernelspec": {
   "display_name": "Python 3",
   "language": "python",
   "name": "python3"
  },
  "language_info": {
   "codemirror_mode": {
    "name": "ipython",
    "version": 3
   },
   "file_extension": ".py",
   "mimetype": "text/x-python",
   "name": "python",
   "nbconvert_exporter": "python",
   "pygments_lexer": "ipython3",
   "version": "3.7.1"
  }
 },
 "nbformat": 4,
 "nbformat_minor": 2
}
