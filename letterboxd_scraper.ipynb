{
 "cells": [
  {
   "cell_type": "markdown",
   "metadata": {},
   "source": [
    "Let's get started! \n",
    "\n",
    "As always, we start by importing our libraries. "
   ]
  },
  {
   "cell_type": "code",
   "execution_count": 1,
   "metadata": {},
   "outputs": [],
   "source": [
    "from bs4 import BeautifulSoup as bs\n",
    "from pandas.io.json import json_normalize\n",
    "import json\n",
    "import matplotlib as mpl\n",
    "import pandas as pd\n",
    "import re\n",
    "import requests\n",
    "import seaborn as sns\n",
    "import unicodedata as uni"
   ]
  },
  {
   "cell_type": "markdown",
   "metadata": {},
   "source": [
    "First, let's setup the URLs that'll be driving our data analytics project here."
   ]
  },
  {
   "cell_type": "code",
   "execution_count": 2,
   "metadata": {},
   "outputs": [],
   "source": [
    "base_url = 'https://letterboxd.com/'\n",
    "account_name = 'JoshLinneburg'\n",
    "ratings_url = base_url + account_name + '/films/ratings/by/rating/'"
   ]
  },
  {
   "cell_type": "markdown",
   "metadata": {},
   "source": [
    "And let's just scrape the webpage of interest; the films by rating on my account."
   ]
  },
  {
   "cell_type": "code",
   "execution_count": 3,
   "metadata": {},
   "outputs": [],
   "source": [
    "def get_html_soup(url):\n",
    "    response = requests.get(url).text\n",
    "    soup = bs(response)\n",
    "    return soup"
   ]
  },
  {
   "cell_type": "code",
   "execution_count": 4,
   "metadata": {},
   "outputs": [],
   "source": [
    "soup = get_html_soup(ratings_url)"
   ]
  },
  {
   "cell_type": "markdown",
   "metadata": {},
   "source": [
    "First thing we're going to do: Figure out how to itemize the films that have been rated *on a single page*."
   ]
  },
  {
   "cell_type": "markdown",
   "metadata": {},
   "source": [
    "Start by splitting the page up into a list of movies."
   ]
  },
  {
   "cell_type": "code",
   "execution_count": 5,
   "metadata": {},
   "outputs": [],
   "source": [
    "movies_on_page = soup.findAll('ul', class_='poster-list -p150 -grid')[0].findAll('li')"
   ]
  },
  {
   "cell_type": "markdown",
   "metadata": {},
   "source": [
    "Now to extract the stars and the URL from this HTML."
   ]
  },
  {
   "cell_type": "code",
   "execution_count": 6,
   "metadata": {},
   "outputs": [],
   "source": [
    "def get_user_movie_rating(html_soup):\n",
    "    raw_movie_rating = html_soup.find('p').find('span').text.strip()\n",
    "    movie_rating = sum([float(raw_movie_rating[i].replace('★', '1.0').replace('½', '0.5')) for i in range(len(raw_movie_rating))])\n",
    "    return movie_rating"
   ]
  },
  {
   "cell_type": "code",
   "execution_count": 7,
   "metadata": {},
   "outputs": [
    {
     "data": {
      "text/plain": [
       "5.0"
      ]
     },
     "execution_count": 7,
     "metadata": {},
     "output_type": "execute_result"
    }
   ],
   "source": [
    "get_user_movie_rating(movies_on_page[0])"
   ]
  },
  {
   "cell_type": "code",
   "execution_count": 8,
   "metadata": {},
   "outputs": [],
   "source": [
    "def get_movie_url(html_soup):\n",
    "    movie_url = html_soup.find('div', class_='poster film-poster really-lazy-load')['data-target-link']\n",
    "    return movie_url"
   ]
  },
  {
   "cell_type": "code",
   "execution_count": 9,
   "metadata": {},
   "outputs": [
    {
     "data": {
      "text/plain": [
       "'/film/the-empire-strikes-back/'"
      ]
     },
     "execution_count": 9,
     "metadata": {},
     "output_type": "execute_result"
    }
   ],
   "source": [
    "get_movie_url(movies_on_page[0])"
   ]
  },
  {
   "cell_type": "code",
   "execution_count": 10,
   "metadata": {
    "scrolled": true
   },
   "outputs": [
    {
     "name": "stdout",
     "output_type": "stream",
     "text": [
      "/film/the-empire-strikes-back/\n",
      "5.0\n",
      "/film/the-dark-knight/\n",
      "5.0\n",
      "/film/the-shawshank-redemption/\n",
      "5.0\n",
      "/film/the-lord-of-the-rings-the-return-of-the-king/\n",
      "4.5\n",
      "/film/the-lord-of-the-rings-the-fellowship-of-the-ring/\n",
      "5.0\n",
      "/film/star-wars/\n",
      "4.5\n",
      "/film/the-lion-king/\n",
      "4.5\n",
      "/film/the-lord-of-the-rings-the-two-towers/\n",
      "4.5\n",
      "/film/raiders-of-the-lost-ark/\n",
      "4.5\n",
      "/film/toy-story/\n",
      "5.0\n",
      "/film/terminator-2-judgment-day/\n",
      "5.0\n",
      "/film/mad-max-fury-road/\n",
      "5.0\n",
      "/film/the-departed/\n",
      "5.0\n",
      "/film/saving-private-ryan/\n",
      "5.0\n",
      "/film/the-iron-giant/\n",
      "4.5\n",
      "/film/die-hard/\n",
      "5.0\n",
      "/film/jurassic-park/\n",
      "4.0\n",
      "/film/blade-runner/\n",
      "5.0\n"
     ]
    }
   ],
   "source": [
    "for i in range(len(movies_on_page)):\n",
    "    print(get_movie_url(movies_on_page[i]))\n",
    "    print(get_user_movie_rating(movies_on_page[i]))"
   ]
  },
  {
   "cell_type": "markdown",
   "metadata": {},
   "source": [
    "Next up: Let's start scraping from a movie's page on here so we can access that detailed info about the film. Let's start with attributes that are on the Letterboxd website (title, actors, director, audience rating, genres) and then we can get crazy with items we'll need to scrape IMDb for (box office, release date, awards, etc.)."
   ]
  },
  {
   "cell_type": "markdown",
   "metadata": {},
   "source": [
    "We'll use *The Fellowship of the Ring* as our working example here."
   ]
  },
  {
   "cell_type": "code",
   "execution_count": 11,
   "metadata": {},
   "outputs": [],
   "source": [
    "film_to_scrape = get_movie_url(movies_on_page[4])\n",
    "response = requests.get(base_url+film_to_scrape).text\n",
    "soup = bs(response)"
   ]
  },
  {
   "cell_type": "markdown",
   "metadata": {},
   "source": [
    "Next up: scraping some data about the crew on a film. "
   ]
  },
  {
   "cell_type": "code",
   "execution_count": 12,
   "metadata": {},
   "outputs": [],
   "source": [
    "def get_crew_data(html_soup):\n",
    "    \n",
    "    '''\n",
    "    Parameters:\n",
    "        html_soup (bs4 BeautifulSoup): BeautifulSoup HTMl represnetation of a film's webpage on Letterboxd.com\n",
    "        \n",
    "    Returns:\n",
    "        crew_dict (dict): Nested dictionary with data about the crew on a movie from Letterboxd.com.\n",
    "    \n",
    "    '''\n",
    "    \n",
    "    # Categories (Director, Producers, Writers, etc.) of crewmembers available\n",
    "    crew_roles_avail = html_soup.find('div', class_='tabbed-content-block column-block').findAll('span')\n",
    "\n",
    "    # Same information in a list without HTML tags\n",
    "    crew_roles_avail_list = [tag.text.lower() for tag in crew_roles_avail]\n",
    "\n",
    "    # Init the crew list\n",
    "    crew_dict = {}\n",
    "    crew_list = []\n",
    "    total_crew_counter = 0\n",
    "    crew_names_list = []\n",
    "    unique_crew_names = set()\n",
    "\n",
    "    for i in range(len(crew_roles_avail_list)):\n",
    "        crew_role_dict = {}\n",
    "\n",
    "        # Role is just whatever role we're on \n",
    "        crew_role_dict['crew_role'] = crew_roles_avail_list[i]\n",
    "\n",
    "        # Find the list of names and URLs for a given role\n",
    "        crew_attributes_list = html_soup.find('div', class_='tabbed-content-block column-block').findAll('div')[i].findAll('a')\n",
    "\n",
    "        # Iterate on our counter\n",
    "        total_crew_counter += len(crew_attributes_list)\n",
    "\n",
    "        # How many people are assigned to this role\n",
    "        crew_role_dict['number_assigned'] = len(crew_attributes_list)\n",
    "\n",
    "        # Init an \"inner\" list - a list of dictionaries containing the name and URL of each crewmember\n",
    "        inner_crew_list = [] \n",
    "\n",
    "        for i in range(len(crew_attributes_list)):\n",
    "            inner_crew_dict = {}\n",
    "\n",
    "            # Crewmember name\n",
    "            inner_crew_dict['name'] = crew_attributes_list[i].text\n",
    "            crew_names_list.append(crew_attributes_list[i].text)\n",
    "\n",
    "            # Crewmember URL\n",
    "            inner_crew_dict['url'] = crew_attributes_list[i]['href']\n",
    "\n",
    "            # Append this inner list to the inner dictionary\n",
    "            inner_crew_list.append(inner_crew_dict)\n",
    "\n",
    "        # Add our completed inner list to the outer dictionary\n",
    "        crew_role_dict['crew_attributes'] = inner_crew_list\n",
    "\n",
    "        # Append to our growing list\n",
    "        crew_list.append(crew_role_dict)\n",
    "\n",
    "    # Gets the total number of crewmembers listed\n",
    "    crew_dict['total_crew'] = total_crew_counter\n",
    "\n",
    "    # Gets the total number of unique crewmembers listed\n",
    "    for name in crew_names_list:\n",
    "        if name not in unique_crew_names:\n",
    "            unique_crew_names.add(name)\n",
    "\n",
    "    crew_dict['total_unique_crew'] = len(unique_crew_names)\n",
    "\n",
    "    crew_dict['crew_list'] = crew_list\n",
    "    \n",
    "    return crew_dict"
   ]
  },
  {
   "cell_type": "code",
   "execution_count": 13,
   "metadata": {},
   "outputs": [
    {
     "data": {
      "text/plain": [
       "{'total_crew': 73,\n",
       " 'total_unique_crew': 70,\n",
       " 'crew_list': [{'crew_role': 'director',\n",
       "   'number_assigned': 1,\n",
       "   'crew_attributes': [{'name': 'Peter Jackson',\n",
       "     'url': '/director/peter-jackson/'}]},\n",
       "  {'crew_role': 'producers',\n",
       "   'number_assigned': 9,\n",
       "   'crew_attributes': [{'name': 'Barrie M. Osborne',\n",
       "     'url': '/producer/barrie-m-osborne/'},\n",
       "    {'name': 'Peter Jackson', 'url': '/producer/peter-jackson/'},\n",
       "    {'name': 'Bob Weinstein', 'url': '/producer/bob-weinstein/'},\n",
       "    {'name': 'Harvey Weinstein', 'url': '/producer/harvey-weinstein/'},\n",
       "    {'name': 'Mark Ordesky', 'url': '/producer/mark-ordesky/'},\n",
       "    {'name': 'Michael Lynne', 'url': '/producer/michael-lynne/'},\n",
       "    {'name': 'Fran Walsh', 'url': '/producer/fran-walsh/'},\n",
       "    {'name': 'Robert Shaye', 'url': '/producer/robert-shaye/'},\n",
       "    {'name': 'Tim Sanders', 'url': '/producer/tim-sanders/'}]},\n",
       "  {'crew_role': 'writers',\n",
       "   'number_assigned': 4,\n",
       "   'crew_attributes': [{'name': 'Peter Jackson',\n",
       "     'url': '/writer/peter-jackson/'},\n",
       "    {'name': 'J.R.R. Tolkien', 'url': '/writer/jrr-tolkien/'},\n",
       "    {'name': 'Fran Walsh', 'url': '/writer/fran-walsh/'},\n",
       "    {'name': 'Philippa Boyens', 'url': '/writer/philippa-boyens/'}]},\n",
       "  {'crew_role': 'editor',\n",
       "   'number_assigned': 1,\n",
       "   'crew_attributes': [{'name': 'John Gilbert',\n",
       "     'url': '/editor/john-gilbert-4/'}]},\n",
       "  {'crew_role': 'cinematography',\n",
       "   'number_assigned': 1,\n",
       "   'crew_attributes': [{'name': 'Andrew Lesnie',\n",
       "     'url': '/cinematography/andrew-lesnie-1/'}]},\n",
       "  {'crew_role': 'production design',\n",
       "   'number_assigned': 11,\n",
       "   'crew_attributes': [{'name': 'Grant Major',\n",
       "     'url': '/production-design/grant-major/'},\n",
       "    {'name': 'Joe Bleakley', 'url': '/production-design/joe-bleakley/'},\n",
       "    {'name': 'Philip Ivey', 'url': '/production-design/philip-ivey/'},\n",
       "    {'name': 'Rob Outterside', 'url': '/production-design/rob-outterside/'},\n",
       "    {'name': 'Mark Robins', 'url': '/production-design/mark-robins/'},\n",
       "    {'name': 'Alan Lee', 'url': '/production-design/alan-lee-1/'},\n",
       "    {'name': 'John Howe', 'url': '/production-design/john-howe-1/'},\n",
       "    {'name': 'Jules Cook', 'url': '/production-design/jules-cook/'},\n",
       "    {'name': 'Chris Hennah', 'url': '/production-design/chris-hennah/'},\n",
       "    {'name': 'Jacqui Allen', 'url': '/production-design/jacqui-allen/'},\n",
       "    {'name': 'Ross McGarva', 'url': '/production-design/ross-mcgarva-1/'}]},\n",
       "  {'crew_role': 'visual effects',\n",
       "   'number_assigned': 11,\n",
       "   'crew_attributes': [{'name': 'Mark O. Forker',\n",
       "     'url': '/visual-effects/mark-o-forker/'},\n",
       "    {'name': 'Paul Lasaine', 'url': '/visual-effects/paul-lasaine/'},\n",
       "    {'name': 'Mark Stetson', 'url': '/visual-effects/mark-stetson/'},\n",
       "    {'name': 'Charlie McClellan', 'url': '/visual-effects/charlie-mcclellan/'},\n",
       "    {'name': 'Geoff Dixon', 'url': '/visual-effects/geoff-dixon/'},\n",
       "    {'name': 'Dean Lyon', 'url': '/visual-effects/dean-lyon/'},\n",
       "    {'name': \"Kelly L'Estrange\", 'url': '/visual-effects/kelly-lestrange/'},\n",
       "    {'name': 'Jim Rygiel', 'url': '/visual-effects/jim-rygiel/'},\n",
       "    {'name': 'Eileen Moran', 'url': '/visual-effects/eileen-moran/'},\n",
       "    {'name': 'Randall William Cook',\n",
       "     'url': '/visual-effects/randall-william-cook/'},\n",
       "    {'name': 'Steen Bech', 'url': '/visual-effects/steen-bech/'}]},\n",
       "  {'crew_role': 'composer',\n",
       "   'number_assigned': 1,\n",
       "   'crew_attributes': [{'name': 'Howard Shore',\n",
       "     'url': '/composer/howard-shore/'}]},\n",
       "  {'crew_role': 'sound',\n",
       "   'number_assigned': 13,\n",
       "   'crew_attributes': [{'name': 'Christopher Boyes',\n",
       "     'url': '/sound/christopher-boyes/'},\n",
       "    {'name': 'Brent Burge', 'url': '/sound/brent-burge/'},\n",
       "    {'name': 'David Farmer', 'url': '/sound/david-farmer/'},\n",
       "    {'name': 'Gethin Creagh', 'url': '/sound/gethin-creagh/'},\n",
       "    {'name': 'John McKay', 'url': '/sound/john-mckay-2/'},\n",
       "    {'name': 'Ethan van der Ryn', 'url': '/sound/ethan-van-der-ryn/'},\n",
       "    {'name': 'Michael Semanick', 'url': '/sound/michael-semanick/'},\n",
       "    {'name': 'Tim Nielsen', 'url': '/sound/tim-nielsen/'},\n",
       "    {'name': 'Mike Hopkins', 'url': '/sound/mike-hopkins-1/'},\n",
       "    {'name': 'Ken Saville', 'url': '/sound/ken-saville/'},\n",
       "    {'name': 'Craig Tomlinson', 'url': '/sound/craig-tomlinson/'},\n",
       "    {'name': 'Hammond Peek', 'url': '/sound/hammond-peek/'},\n",
       "    {'name': 'Malcolm Cromie', 'url': '/sound/malcolm-cromie/'}]},\n",
       "  {'crew_role': 'costumes',\n",
       "   'number_assigned': 2,\n",
       "   'crew_attributes': [{'name': 'Ngila Dickson',\n",
       "     'url': '/costumes/ngila-dickson/'},\n",
       "    {'name': 'Richard Taylor', 'url': '/costumes/richard-taylor-4/'}]},\n",
       "  {'crew_role': 'make-up',\n",
       "   'number_assigned': 19,\n",
       "   'crew_attributes': [{'name': 'Jeremy Woodhead',\n",
       "     'url': '/make-up/jeremy-woodhead/'},\n",
       "    {'name': 'Rick Findlater', 'url': '/make-up/rick-findlater/'},\n",
       "    {'name': 'Margaret Aston', 'url': '/make-up/margaret-aston/'},\n",
       "    {'name': 'Noreen Wilkie', 'url': '/make-up/noreen-wilkie/'},\n",
       "    {'name': 'Janine Schneider', 'url': '/make-up/janine-schneider/'},\n",
       "    {'name': 'Nancy Hennah', 'url': '/make-up/nancy-hennah/'},\n",
       "    {'name': 'Catherine Maguire', 'url': '/make-up/catherine-maguire/'},\n",
       "    {'name': 'Davina Lamont', 'url': '/make-up/davina-lamont/'},\n",
       "    {'name': 'Linda Wall', 'url': '/make-up/linda-wall/'},\n",
       "    {'name': 'Vivienne MacGillicuddy',\n",
       "     'url': '/make-up/vivienne-macgillicuddy/'},\n",
       "    {'name': 'Kerryn Flewell-Smith', 'url': '/make-up/kerryn-flewell-smith/'},\n",
       "    {'name': 'Mark Kinaston-Smith', 'url': '/make-up/mark-kinaston-smith/'},\n",
       "    {'name': 'Emma Moncrieff', 'url': '/make-up/emma-moncrieff/'},\n",
       "    {'name': 'Allie Rutherford', 'url': '/make-up/allie-rutherford/'},\n",
       "    {'name': 'Lenore Stewart', 'url': '/make-up/lenore-stewart/'},\n",
       "    {'name': 'Tanya Travis', 'url': '/make-up/tanya-travis/'},\n",
       "    {'name': 'Tera Treanor', 'url': '/make-up/tera-treanor/'},\n",
       "    {'name': 'Bronwyn Knott', 'url': '/make-up/bronwyn-knott/'},\n",
       "    {'name': 'Laurelle Ziento', 'url': '/make-up/laurelle-ziento/'}]}]}"
      ]
     },
     "execution_count": 13,
     "metadata": {},
     "output_type": "execute_result"
    }
   ],
   "source": [
    "crew_dict = get_crew_data(soup)\n",
    "crew_dict"
   ]
  },
  {
   "cell_type": "markdown",
   "metadata": {},
   "source": [
    "Let's grab more information about the movie... How about the cast?"
   ]
  },
  {
   "cell_type": "code",
   "execution_count": 14,
   "metadata": {},
   "outputs": [],
   "source": [
    "def get_cast_data(html_soup, max_cast_to_return = 15):\n",
    "    \n",
    "    '''\n",
    "    Parameters:\n",
    "        html_soup (bs4 BeautifulSoup): BeautifulSoup HTMl represnetation of a film's webpage on Letterboxd.com.\n",
    "        \n",
    "        max_cast_to_return: Max number of cast members to include in output. \n",
    "        \n",
    "    Returns:\n",
    "        cast_dict (dict): Nested dictionary which contains data about the cast of a movie on Letterboxd.com\n",
    "    \n",
    "    '''\n",
    "    \n",
    "    available_cast = html_soup.find('div', class_='cast-list text-sluglist').findAll('a', class_='text-slug tooltip')\n",
    "\n",
    "    cast_dict = {}\n",
    "    cast_list = []\n",
    "    cast_names_list = []\n",
    "    unique_cast_names = set()\n",
    "\n",
    "    for i in range(min(len(available_cast), max_cast_to_return)):\n",
    "        cast_attr_dict = {}\n",
    "        cast_attr_dict['actor_seq_nbr'] = i\n",
    "        cast_attr_dict['actor_name'] = available_cast[i].text\n",
    "        cast_attr_dict['actor_role'] = available_cast[i]['title']\n",
    "        cast_attr_dict['actor_url'] = available_cast[i]['href']\n",
    "        unique_cast_names.add(available_cast[i].text)\n",
    "        cast_list.append(cast_attr_dict)\n",
    "\n",
    "    # Total number of castmembers\n",
    "    cast_dict['total_cast'] = len(available_cast)\n",
    "\n",
    "    # List of castmembers\n",
    "    cast_dict['cast_list'] = cast_list\n",
    "    \n",
    "    return cast_dict"
   ]
  },
  {
   "cell_type": "code",
   "execution_count": 15,
   "metadata": {
    "scrolled": true
   },
   "outputs": [
    {
     "data": {
      "text/plain": [
       "{'total_cast': 80,\n",
       " 'cast_list': [{'actor_seq_nbr': 0,\n",
       "   'actor_name': 'Elijah Wood',\n",
       "   'actor_role': 'Frodo Baggins',\n",
       "   'actor_url': '/actor/elijah-wood/'},\n",
       "  {'actor_seq_nbr': 1,\n",
       "   'actor_name': 'Ian McKellen',\n",
       "   'actor_role': 'Gandalf the Grey',\n",
       "   'actor_url': '/actor/ian-mckellen/'},\n",
       "  {'actor_seq_nbr': 2,\n",
       "   'actor_name': 'Viggo Mortensen',\n",
       "   'actor_role': 'Aragorn',\n",
       "   'actor_url': '/actor/viggo-mortensen/'},\n",
       "  {'actor_seq_nbr': 3,\n",
       "   'actor_name': 'Sean Astin',\n",
       "   'actor_role': 'Samwise \"Sam\" Gamgee',\n",
       "   'actor_url': '/actor/sean-astin/'},\n",
       "  {'actor_seq_nbr': 4,\n",
       "   'actor_name': 'Liv Tyler',\n",
       "   'actor_role': 'Arwen Evenstar',\n",
       "   'actor_url': '/actor/liv-tyler/'},\n",
       "  {'actor_seq_nbr': 5,\n",
       "   'actor_name': 'Orlando Bloom',\n",
       "   'actor_role': 'Legolas',\n",
       "   'actor_url': '/actor/orlando-bloom/'},\n",
       "  {'actor_seq_nbr': 6,\n",
       "   'actor_name': 'John Rhys-Davies',\n",
       "   'actor_role': 'Gimli',\n",
       "   'actor_url': '/actor/john-rhys-davies/'},\n",
       "  {'actor_seq_nbr': 7,\n",
       "   'actor_name': 'Dominic Monaghan',\n",
       "   'actor_role': 'Meriadoc \"Merry\" Brandybuck',\n",
       "   'actor_url': '/actor/dominic-monaghan/'},\n",
       "  {'actor_seq_nbr': 8,\n",
       "   'actor_name': 'Billy Boyd',\n",
       "   'actor_role': 'Peregrin \"Pippin\" Took',\n",
       "   'actor_url': '/actor/billy-boyd/'},\n",
       "  {'actor_seq_nbr': 9,\n",
       "   'actor_name': 'Sean Bean',\n",
       "   'actor_role': 'Boromir',\n",
       "   'actor_url': '/actor/sean-bean/'},\n",
       "  {'actor_seq_nbr': 10,\n",
       "   'actor_name': 'Andy Serkis',\n",
       "   'actor_role': 'Gollum / Witch-king of Angmar (voice)',\n",
       "   'actor_url': '/actor/andy-serkis/'},\n",
       "  {'actor_seq_nbr': 11,\n",
       "   'actor_name': 'Cate Blanchett',\n",
       "   'actor_role': 'Galadriel',\n",
       "   'actor_url': '/actor/cate-blanchett/'},\n",
       "  {'actor_seq_nbr': 12,\n",
       "   'actor_name': 'Christopher Lee',\n",
       "   'actor_role': 'Saruman',\n",
       "   'actor_url': '/actor/christopher-lee/'},\n",
       "  {'actor_seq_nbr': 13,\n",
       "   'actor_name': 'Hugo Weaving',\n",
       "   'actor_role': 'Elrond',\n",
       "   'actor_url': '/actor/hugo-weaving/'},\n",
       "  {'actor_seq_nbr': 14,\n",
       "   'actor_name': 'Ian Holm',\n",
       "   'actor_role': 'Bilbo Baggins',\n",
       "   'actor_url': '/actor/ian-holm/'}]}"
      ]
     },
     "execution_count": 15,
     "metadata": {},
     "output_type": "execute_result"
    }
   ],
   "source": [
    "cast_dict = get_cast_data(soup)\n",
    "cast_dict"
   ]
  },
  {
   "cell_type": "markdown",
   "metadata": {},
   "source": [
    "Let's get the title next and then the average rating among all reviewers. We can also grab the movie's description while we're at it too."
   ]
  },
  {
   "cell_type": "code",
   "execution_count": 16,
   "metadata": {},
   "outputs": [],
   "source": [
    "def get_movie_title(soup):\n",
    "    movie_title = soup.find('h1', class_='headline-1 js-widont prettify').text.strip()\n",
    "    return movie_title"
   ]
  },
  {
   "cell_type": "code",
   "execution_count": 17,
   "metadata": {},
   "outputs": [
    {
     "data": {
      "text/plain": [
       "'The Lord of the Rings: The Fellowship of the Ring'"
      ]
     },
     "execution_count": 17,
     "metadata": {},
     "output_type": "execute_result"
    }
   ],
   "source": [
    "movie_title = get_movie_title(soup)\n",
    "movie_title"
   ]
  },
  {
   "cell_type": "code",
   "execution_count": 18,
   "metadata": {},
   "outputs": [],
   "source": [
    "small_soup = bs(requests.get(base_url + soup.find('aside', class_='sidebar').find('div', class_='js-csi')['data-src']).text)"
   ]
  },
  {
   "cell_type": "code",
   "execution_count": 19,
   "metadata": {},
   "outputs": [],
   "source": [
    "def get_movie_avg_rating(soup):\n",
    "    movie_avg_rating = soup.find('span', class_='average-rating').find('a').text\n",
    "    return movie_avg_rating"
   ]
  },
  {
   "cell_type": "code",
   "execution_count": 20,
   "metadata": {},
   "outputs": [
    {
     "data": {
      "text/plain": [
       "'4.3'"
      ]
     },
     "execution_count": 20,
     "metadata": {},
     "output_type": "execute_result"
    }
   ],
   "source": [
    "movie_avg_rating = get_movie_avg_rating(small_soup)\n",
    "movie_avg_rating"
   ]
  },
  {
   "cell_type": "code",
   "execution_count": 21,
   "metadata": {},
   "outputs": [],
   "source": [
    "def get_movie_desc(soup):\n",
    "    movie_desc = soup.findAll('meta')[3]['content'].strip()\n",
    "    return movie_desc"
   ]
  },
  {
   "cell_type": "code",
   "execution_count": 22,
   "metadata": {},
   "outputs": [
    {
     "data": {
      "text/plain": [
       "'Young hobbit Frodo Baggins, after inheriting a mysterious ring from his uncle Bilbo, must leave his home in order to keep it from falling into the hands of its evil creator. Along the way, a fellowship is formed to protect the ringbearer and make sure that the ring arrives at its final destination: Mt. Doom, the only place where it can be destroyed.'"
      ]
     },
     "execution_count": 22,
     "metadata": {},
     "output_type": "execute_result"
    }
   ],
   "source": [
    "movie_desc = get_movie_desc(soup)\n",
    "movie_desc"
   ]
  },
  {
   "cell_type": "markdown",
   "metadata": {},
   "source": [
    "Okay, now that we've got a good selection of information about *The Fellowship of the Ring* let's put it together in one large dictionary. \n",
    "\n",
    "Then we can get started on scraping IMDb for the last few attributes we'll want:\n",
    "* The movie's budget and revenue\n",
    "* The movie's release date\n",
    "\n",
    "Additionally, we're going to want to scrape the movie's genre(s) from either Letterboxd or IMDb, I'm not sure which one just yet though. "
   ]
  },
  {
   "cell_type": "code",
   "execution_count": 23,
   "metadata": {},
   "outputs": [],
   "source": [
    "movie = {}\n",
    "movie['title'] = movie_title\n",
    "movie['description'] = movie_desc\n",
    "movie['avg_rating'] = movie_avg_rating\n",
    "movie['cast'] = cast_dict\n",
    "movie['crew'] = crew_dict"
   ]
  },
  {
   "cell_type": "code",
   "execution_count": 24,
   "metadata": {},
   "outputs": [
    {
     "data": {
      "text/plain": [
       "{'title': 'The Lord of the Rings: The Fellowship of the Ring',\n",
       " 'description': 'Young hobbit Frodo Baggins, after inheriting a mysterious ring from his uncle Bilbo, must leave his home in order to keep it from falling into the hands of its evil creator. Along the way, a fellowship is formed to protect the ringbearer and make sure that the ring arrives at its final destination: Mt. Doom, the only place where it can be destroyed.',\n",
       " 'avg_rating': '4.3',\n",
       " 'cast': {'total_cast': 80,\n",
       "  'cast_list': [{'actor_seq_nbr': 0,\n",
       "    'actor_name': 'Elijah Wood',\n",
       "    'actor_role': 'Frodo Baggins',\n",
       "    'actor_url': '/actor/elijah-wood/'},\n",
       "   {'actor_seq_nbr': 1,\n",
       "    'actor_name': 'Ian McKellen',\n",
       "    'actor_role': 'Gandalf the Grey',\n",
       "    'actor_url': '/actor/ian-mckellen/'},\n",
       "   {'actor_seq_nbr': 2,\n",
       "    'actor_name': 'Viggo Mortensen',\n",
       "    'actor_role': 'Aragorn',\n",
       "    'actor_url': '/actor/viggo-mortensen/'},\n",
       "   {'actor_seq_nbr': 3,\n",
       "    'actor_name': 'Sean Astin',\n",
       "    'actor_role': 'Samwise \"Sam\" Gamgee',\n",
       "    'actor_url': '/actor/sean-astin/'},\n",
       "   {'actor_seq_nbr': 4,\n",
       "    'actor_name': 'Liv Tyler',\n",
       "    'actor_role': 'Arwen Evenstar',\n",
       "    'actor_url': '/actor/liv-tyler/'},\n",
       "   {'actor_seq_nbr': 5,\n",
       "    'actor_name': 'Orlando Bloom',\n",
       "    'actor_role': 'Legolas',\n",
       "    'actor_url': '/actor/orlando-bloom/'},\n",
       "   {'actor_seq_nbr': 6,\n",
       "    'actor_name': 'John Rhys-Davies',\n",
       "    'actor_role': 'Gimli',\n",
       "    'actor_url': '/actor/john-rhys-davies/'},\n",
       "   {'actor_seq_nbr': 7,\n",
       "    'actor_name': 'Dominic Monaghan',\n",
       "    'actor_role': 'Meriadoc \"Merry\" Brandybuck',\n",
       "    'actor_url': '/actor/dominic-monaghan/'},\n",
       "   {'actor_seq_nbr': 8,\n",
       "    'actor_name': 'Billy Boyd',\n",
       "    'actor_role': 'Peregrin \"Pippin\" Took',\n",
       "    'actor_url': '/actor/billy-boyd/'},\n",
       "   {'actor_seq_nbr': 9,\n",
       "    'actor_name': 'Sean Bean',\n",
       "    'actor_role': 'Boromir',\n",
       "    'actor_url': '/actor/sean-bean/'},\n",
       "   {'actor_seq_nbr': 10,\n",
       "    'actor_name': 'Andy Serkis',\n",
       "    'actor_role': 'Gollum / Witch-king of Angmar (voice)',\n",
       "    'actor_url': '/actor/andy-serkis/'},\n",
       "   {'actor_seq_nbr': 11,\n",
       "    'actor_name': 'Cate Blanchett',\n",
       "    'actor_role': 'Galadriel',\n",
       "    'actor_url': '/actor/cate-blanchett/'},\n",
       "   {'actor_seq_nbr': 12,\n",
       "    'actor_name': 'Christopher Lee',\n",
       "    'actor_role': 'Saruman',\n",
       "    'actor_url': '/actor/christopher-lee/'},\n",
       "   {'actor_seq_nbr': 13,\n",
       "    'actor_name': 'Hugo Weaving',\n",
       "    'actor_role': 'Elrond',\n",
       "    'actor_url': '/actor/hugo-weaving/'},\n",
       "   {'actor_seq_nbr': 14,\n",
       "    'actor_name': 'Ian Holm',\n",
       "    'actor_role': 'Bilbo Baggins',\n",
       "    'actor_url': '/actor/ian-holm/'}]},\n",
       " 'crew': {'total_crew': 73,\n",
       "  'total_unique_crew': 70,\n",
       "  'crew_list': [{'crew_role': 'director',\n",
       "    'number_assigned': 1,\n",
       "    'crew_attributes': [{'name': 'Peter Jackson',\n",
       "      'url': '/director/peter-jackson/'}]},\n",
       "   {'crew_role': 'producers',\n",
       "    'number_assigned': 9,\n",
       "    'crew_attributes': [{'name': 'Barrie M. Osborne',\n",
       "      'url': '/producer/barrie-m-osborne/'},\n",
       "     {'name': 'Peter Jackson', 'url': '/producer/peter-jackson/'},\n",
       "     {'name': 'Bob Weinstein', 'url': '/producer/bob-weinstein/'},\n",
       "     {'name': 'Harvey Weinstein', 'url': '/producer/harvey-weinstein/'},\n",
       "     {'name': 'Mark Ordesky', 'url': '/producer/mark-ordesky/'},\n",
       "     {'name': 'Michael Lynne', 'url': '/producer/michael-lynne/'},\n",
       "     {'name': 'Fran Walsh', 'url': '/producer/fran-walsh/'},\n",
       "     {'name': 'Robert Shaye', 'url': '/producer/robert-shaye/'},\n",
       "     {'name': 'Tim Sanders', 'url': '/producer/tim-sanders/'}]},\n",
       "   {'crew_role': 'writers',\n",
       "    'number_assigned': 4,\n",
       "    'crew_attributes': [{'name': 'Peter Jackson',\n",
       "      'url': '/writer/peter-jackson/'},\n",
       "     {'name': 'J.R.R. Tolkien', 'url': '/writer/jrr-tolkien/'},\n",
       "     {'name': 'Fran Walsh', 'url': '/writer/fran-walsh/'},\n",
       "     {'name': 'Philippa Boyens', 'url': '/writer/philippa-boyens/'}]},\n",
       "   {'crew_role': 'editor',\n",
       "    'number_assigned': 1,\n",
       "    'crew_attributes': [{'name': 'John Gilbert',\n",
       "      'url': '/editor/john-gilbert-4/'}]},\n",
       "   {'crew_role': 'cinematography',\n",
       "    'number_assigned': 1,\n",
       "    'crew_attributes': [{'name': 'Andrew Lesnie',\n",
       "      'url': '/cinematography/andrew-lesnie-1/'}]},\n",
       "   {'crew_role': 'production design',\n",
       "    'number_assigned': 11,\n",
       "    'crew_attributes': [{'name': 'Grant Major',\n",
       "      'url': '/production-design/grant-major/'},\n",
       "     {'name': 'Joe Bleakley', 'url': '/production-design/joe-bleakley/'},\n",
       "     {'name': 'Philip Ivey', 'url': '/production-design/philip-ivey/'},\n",
       "     {'name': 'Rob Outterside', 'url': '/production-design/rob-outterside/'},\n",
       "     {'name': 'Mark Robins', 'url': '/production-design/mark-robins/'},\n",
       "     {'name': 'Alan Lee', 'url': '/production-design/alan-lee-1/'},\n",
       "     {'name': 'John Howe', 'url': '/production-design/john-howe-1/'},\n",
       "     {'name': 'Jules Cook', 'url': '/production-design/jules-cook/'},\n",
       "     {'name': 'Chris Hennah', 'url': '/production-design/chris-hennah/'},\n",
       "     {'name': 'Jacqui Allen', 'url': '/production-design/jacqui-allen/'},\n",
       "     {'name': 'Ross McGarva', 'url': '/production-design/ross-mcgarva-1/'}]},\n",
       "   {'crew_role': 'visual effects',\n",
       "    'number_assigned': 11,\n",
       "    'crew_attributes': [{'name': 'Mark O. Forker',\n",
       "      'url': '/visual-effects/mark-o-forker/'},\n",
       "     {'name': 'Paul Lasaine', 'url': '/visual-effects/paul-lasaine/'},\n",
       "     {'name': 'Mark Stetson', 'url': '/visual-effects/mark-stetson/'},\n",
       "     {'name': 'Charlie McClellan',\n",
       "      'url': '/visual-effects/charlie-mcclellan/'},\n",
       "     {'name': 'Geoff Dixon', 'url': '/visual-effects/geoff-dixon/'},\n",
       "     {'name': 'Dean Lyon', 'url': '/visual-effects/dean-lyon/'},\n",
       "     {'name': \"Kelly L'Estrange\", 'url': '/visual-effects/kelly-lestrange/'},\n",
       "     {'name': 'Jim Rygiel', 'url': '/visual-effects/jim-rygiel/'},\n",
       "     {'name': 'Eileen Moran', 'url': '/visual-effects/eileen-moran/'},\n",
       "     {'name': 'Randall William Cook',\n",
       "      'url': '/visual-effects/randall-william-cook/'},\n",
       "     {'name': 'Steen Bech', 'url': '/visual-effects/steen-bech/'}]},\n",
       "   {'crew_role': 'composer',\n",
       "    'number_assigned': 1,\n",
       "    'crew_attributes': [{'name': 'Howard Shore',\n",
       "      'url': '/composer/howard-shore/'}]},\n",
       "   {'crew_role': 'sound',\n",
       "    'number_assigned': 13,\n",
       "    'crew_attributes': [{'name': 'Christopher Boyes',\n",
       "      'url': '/sound/christopher-boyes/'},\n",
       "     {'name': 'Brent Burge', 'url': '/sound/brent-burge/'},\n",
       "     {'name': 'David Farmer', 'url': '/sound/david-farmer/'},\n",
       "     {'name': 'Gethin Creagh', 'url': '/sound/gethin-creagh/'},\n",
       "     {'name': 'John McKay', 'url': '/sound/john-mckay-2/'},\n",
       "     {'name': 'Ethan van der Ryn', 'url': '/sound/ethan-van-der-ryn/'},\n",
       "     {'name': 'Michael Semanick', 'url': '/sound/michael-semanick/'},\n",
       "     {'name': 'Tim Nielsen', 'url': '/sound/tim-nielsen/'},\n",
       "     {'name': 'Mike Hopkins', 'url': '/sound/mike-hopkins-1/'},\n",
       "     {'name': 'Ken Saville', 'url': '/sound/ken-saville/'},\n",
       "     {'name': 'Craig Tomlinson', 'url': '/sound/craig-tomlinson/'},\n",
       "     {'name': 'Hammond Peek', 'url': '/sound/hammond-peek/'},\n",
       "     {'name': 'Malcolm Cromie', 'url': '/sound/malcolm-cromie/'}]},\n",
       "   {'crew_role': 'costumes',\n",
       "    'number_assigned': 2,\n",
       "    'crew_attributes': [{'name': 'Ngila Dickson',\n",
       "      'url': '/costumes/ngila-dickson/'},\n",
       "     {'name': 'Richard Taylor', 'url': '/costumes/richard-taylor-4/'}]},\n",
       "   {'crew_role': 'make-up',\n",
       "    'number_assigned': 19,\n",
       "    'crew_attributes': [{'name': 'Jeremy Woodhead',\n",
       "      'url': '/make-up/jeremy-woodhead/'},\n",
       "     {'name': 'Rick Findlater', 'url': '/make-up/rick-findlater/'},\n",
       "     {'name': 'Margaret Aston', 'url': '/make-up/margaret-aston/'},\n",
       "     {'name': 'Noreen Wilkie', 'url': '/make-up/noreen-wilkie/'},\n",
       "     {'name': 'Janine Schneider', 'url': '/make-up/janine-schneider/'},\n",
       "     {'name': 'Nancy Hennah', 'url': '/make-up/nancy-hennah/'},\n",
       "     {'name': 'Catherine Maguire', 'url': '/make-up/catherine-maguire/'},\n",
       "     {'name': 'Davina Lamont', 'url': '/make-up/davina-lamont/'},\n",
       "     {'name': 'Linda Wall', 'url': '/make-up/linda-wall/'},\n",
       "     {'name': 'Vivienne MacGillicuddy',\n",
       "      'url': '/make-up/vivienne-macgillicuddy/'},\n",
       "     {'name': 'Kerryn Flewell-Smith', 'url': '/make-up/kerryn-flewell-smith/'},\n",
       "     {'name': 'Mark Kinaston-Smith', 'url': '/make-up/mark-kinaston-smith/'},\n",
       "     {'name': 'Emma Moncrieff', 'url': '/make-up/emma-moncrieff/'},\n",
       "     {'name': 'Allie Rutherford', 'url': '/make-up/allie-rutherford/'},\n",
       "     {'name': 'Lenore Stewart', 'url': '/make-up/lenore-stewart/'},\n",
       "     {'name': 'Tanya Travis', 'url': '/make-up/tanya-travis/'},\n",
       "     {'name': 'Tera Treanor', 'url': '/make-up/tera-treanor/'},\n",
       "     {'name': 'Bronwyn Knott', 'url': '/make-up/bronwyn-knott/'},\n",
       "     {'name': 'Laurelle Ziento', 'url': '/make-up/laurelle-ziento/'}]}]}}"
      ]
     },
     "execution_count": 24,
     "metadata": {},
     "output_type": "execute_result"
    }
   ],
   "source": [
    "movie"
   ]
  },
  {
   "cell_type": "markdown",
   "metadata": {},
   "source": [
    "Now, let's put everything together into a *bigger* dictionary and add a loop to scrape every film on the page!"
   ]
  },
  {
   "cell_type": "code",
   "execution_count": 25,
   "metadata": {},
   "outputs": [
    {
     "data": {
      "text/plain": [
       "'https://letterboxd.com/'"
      ]
     },
     "execution_count": 25,
     "metadata": {},
     "output_type": "execute_result"
    }
   ],
   "source": [
    "base_url"
   ]
  },
  {
   "cell_type": "code",
   "execution_count": 26,
   "metadata": {},
   "outputs": [],
   "source": [
    "rating_page_html_soup = get_html_soup(base_url + account_name + '/films/ratings/by/rating/page/'+str(1))"
   ]
  },
  {
   "cell_type": "code",
   "execution_count": 27,
   "metadata": {
    "scrolled": true
   },
   "outputs": [],
   "source": [
    "rating_page_html_soup.find('aside', class_='sidebar')"
   ]
  },
  {
   "cell_type": "code",
   "execution_count": 28,
   "metadata": {},
   "outputs": [],
   "source": [
    "def scrape_page_ratings(rating_page_html_soup):\n",
    "\n",
    "    page_ratings_list = []\n",
    "    \n",
    "    try:\n",
    "        movies_on_page = rating_page_html_soup.findAll('ul', class_='poster-list -p150 -grid')[0].findAll('li')\n",
    "    except IndexError:\n",
    "        print('No movie ratings to scrape.')\n",
    "        return None\n",
    "\n",
    "    for i in range(len(movies_on_page)):\n",
    "\n",
    "        # New dictionary\n",
    "        movie_dict = {}\n",
    "\n",
    "        # Get the URL for the movie\n",
    "        movie_url = get_movie_url(movies_on_page[i])\n",
    "        \n",
    "        # Get the HTML soup for the movie\n",
    "        movie_soup = get_html_soup(base_url+movie_url)\n",
    "\n",
    "        # Get the average rating for the movie\n",
    "        avg_rating_page_url = base_url + movie_soup.find('aside', class_='sidebar').find('div', class_='js-csi')['data-src']\n",
    "        small_soup = bs(requests.get(avg_rating_page_url).text)\n",
    "        movie_avg_rating = get_movie_avg_rating(small_soup)\n",
    "\n",
    "        # Get the user's rating for the movie\n",
    "        movie_user_rating = get_user_movie_rating(movies_on_page[i])\n",
    "\n",
    "        # Attributes from the movie page or already stored in variables\n",
    "        movie_dict['title'] = get_movie_title(movie_soup)\n",
    "        movie_dict['url'] = movie_url\n",
    "        movie_dict['description'] = get_movie_desc(movie_soup)\n",
    "        movie_dict['avg_rating'] = movie_avg_rating\n",
    "        movie_dict['user_rating'] = movie_user_rating\n",
    "        movie_dict['cast'] = get_cast_data(movie_soup)\n",
    "        movie_dict['crew'] = get_crew_data(movie_soup)\n",
    "        page_ratings_list.append(movie_dict)\n",
    "\n",
    "    return page_ratings_list"
   ]
  },
  {
   "cell_type": "code",
   "execution_count": 29,
   "metadata": {},
   "outputs": [],
   "source": [
    "def get_pages_to_scrape(account_name):\n",
    "    \n",
    "    account_name = account_name.lower()\n",
    "    \n",
    "    # Everyone has at least one page, even if they have no ratingns\n",
    "    ratings_url = base_url + account_name.lower() + '/films/ratings/by/rating/page/1'\n",
    "    html_soup = get_html_soup(ratings_url)\n",
    "    pages_to_scrape = 1\n",
    "\n",
    "    try:\n",
    "        paginate_pages = html_soup.findAll('div', class_='paginate-pages')[0]\n",
    "\n",
    "    except IndexError:\n",
    "        return pages_to_scrape\n",
    "\n",
    "    pages_to_scrape = int(paginate_pages.findAll('li')[-1].text)\n",
    "    return pages_to_scrape"
   ]
  },
  {
   "cell_type": "code",
   "execution_count": 30,
   "metadata": {},
   "outputs": [],
   "source": [
    "def scrape_account_ratings(account_to_scrape):\n",
    "\n",
    "    account_ratings = {}\n",
    "    ratings_list = []\n",
    "    ratings_by_page_list = []\n",
    "\n",
    "    account_name = account_to_scrape\n",
    "    base_url = 'https://letterboxd.com/'\n",
    "    account_url = base_url + account_name\n",
    "    account_ratings_url = account_url + '/films/ratings/by/rating/'\n",
    "    \n",
    "    account_ratings['account'] = account_name\n",
    "    account_ratings['account_url'] = account_url\n",
    "    account_ratings['account_ratings_url'] = account_ratings_url\n",
    "    \n",
    "    pages_to_scrape = get_pages_to_scrape(account_name)\n",
    "    \n",
    "    \n",
    "    for i in range(pages_to_scrape):\n",
    "        inner_dict = {}\n",
    "        \n",
    "        page_number = str(i+1)\n",
    "    \n",
    "        ratings_url = base_url + account_name + '/films/ratings/by/rating/page/'+page_number\n",
    "        rating_page_html_soup = get_html_soup(ratings_url)\n",
    "        page_ratings = scrape_page_ratings(rating_page_html_soup)\n",
    "        \n",
    "        inner_dict['page'] = page_number\n",
    "        inner_dict['movies_on_page'] = page_ratings\n",
    "        \n",
    "        ratings_by_page_list.append(inner_dict)\n",
    "\n",
    "    for i in range(len(ratings_by_page_list)):\n",
    "        for j in range(len(ratings_by_page_list[i]['movies_on_page'])):\n",
    "            ratings_list.append(ratings_by_page_list[i]['movies_on_page'][j])    \n",
    "        \n",
    "    account_ratings['account_ratings'] = ratings_list\n",
    "    \n",
    "    return account_ratings     "
   ]
  },
  {
   "cell_type": "code",
   "execution_count": 31,
   "metadata": {
    "scrolled": false
   },
   "outputs": [
    {
     "ename": "KeyboardInterrupt",
     "evalue": "",
     "output_type": "error",
     "traceback": [
      "\u001b[1;31m---------------------------------------------------------------------------\u001b[0m",
      "\u001b[1;31mKeyboardInterrupt\u001b[0m                         Traceback (most recent call last)",
      "\u001b[1;32m<ipython-input-31-c570e477d192>\u001b[0m in \u001b[0;36m<module>\u001b[1;34m\u001b[0m\n\u001b[1;32m----> 1\u001b[1;33m \u001b[0mlinneburg_ratings\u001b[0m \u001b[1;33m=\u001b[0m \u001b[0mscrape_account_ratings\u001b[0m\u001b[1;33m(\u001b[0m\u001b[1;34m'joshlinneburg'\u001b[0m\u001b[1;33m)\u001b[0m\u001b[1;33m\u001b[0m\u001b[1;33m\u001b[0m\u001b[0m\n\u001b[0m",
      "\u001b[1;32m<ipython-input-30-e38313515cee>\u001b[0m in \u001b[0;36mscrape_account_ratings\u001b[1;34m(account_to_scrape)\u001b[0m\n\u001b[0;32m     24\u001b[0m         \u001b[0mratings_url\u001b[0m \u001b[1;33m=\u001b[0m \u001b[0mbase_url\u001b[0m \u001b[1;33m+\u001b[0m \u001b[0maccount_name\u001b[0m \u001b[1;33m+\u001b[0m \u001b[1;34m'/films/ratings/by/rating/page/'\u001b[0m\u001b[1;33m+\u001b[0m\u001b[0mpage_number\u001b[0m\u001b[1;33m\u001b[0m\u001b[1;33m\u001b[0m\u001b[0m\n\u001b[0;32m     25\u001b[0m         \u001b[0mrating_page_html_soup\u001b[0m \u001b[1;33m=\u001b[0m \u001b[0mget_html_soup\u001b[0m\u001b[1;33m(\u001b[0m\u001b[0mratings_url\u001b[0m\u001b[1;33m)\u001b[0m\u001b[1;33m\u001b[0m\u001b[1;33m\u001b[0m\u001b[0m\n\u001b[1;32m---> 26\u001b[1;33m         \u001b[0mpage_ratings\u001b[0m \u001b[1;33m=\u001b[0m \u001b[0mscrape_page_ratings\u001b[0m\u001b[1;33m(\u001b[0m\u001b[0mrating_page_html_soup\u001b[0m\u001b[1;33m)\u001b[0m\u001b[1;33m\u001b[0m\u001b[1;33m\u001b[0m\u001b[0m\n\u001b[0m\u001b[0;32m     27\u001b[0m \u001b[1;33m\u001b[0m\u001b[0m\n\u001b[0;32m     28\u001b[0m         \u001b[0minner_dict\u001b[0m\u001b[1;33m[\u001b[0m\u001b[1;34m'page'\u001b[0m\u001b[1;33m]\u001b[0m \u001b[1;33m=\u001b[0m \u001b[0mpage_number\u001b[0m\u001b[1;33m\u001b[0m\u001b[1;33m\u001b[0m\u001b[0m\n",
      "\u001b[1;32m<ipython-input-28-60fa19ca16c4>\u001b[0m in \u001b[0;36mscrape_page_ratings\u001b[1;34m(rating_page_html_soup)\u001b[0m\n\u001b[0;32m     18\u001b[0m \u001b[1;33m\u001b[0m\u001b[0m\n\u001b[0;32m     19\u001b[0m         \u001b[1;31m# Get the HTML soup for the movie\u001b[0m\u001b[1;33m\u001b[0m\u001b[1;33m\u001b[0m\u001b[1;33m\u001b[0m\u001b[0m\n\u001b[1;32m---> 20\u001b[1;33m         \u001b[0mmovie_soup\u001b[0m \u001b[1;33m=\u001b[0m \u001b[0mget_html_soup\u001b[0m\u001b[1;33m(\u001b[0m\u001b[0mbase_url\u001b[0m\u001b[1;33m+\u001b[0m\u001b[0mmovie_url\u001b[0m\u001b[1;33m)\u001b[0m\u001b[1;33m\u001b[0m\u001b[1;33m\u001b[0m\u001b[0m\n\u001b[0m\u001b[0;32m     21\u001b[0m \u001b[1;33m\u001b[0m\u001b[0m\n\u001b[0;32m     22\u001b[0m         \u001b[1;31m# Get the average rating for the movie\u001b[0m\u001b[1;33m\u001b[0m\u001b[1;33m\u001b[0m\u001b[1;33m\u001b[0m\u001b[0m\n",
      "\u001b[1;32m<ipython-input-3-6eed416c7d72>\u001b[0m in \u001b[0;36mget_html_soup\u001b[1;34m(url)\u001b[0m\n\u001b[0;32m      1\u001b[0m \u001b[1;32mdef\u001b[0m \u001b[0mget_html_soup\u001b[0m\u001b[1;33m(\u001b[0m\u001b[0murl\u001b[0m\u001b[1;33m)\u001b[0m\u001b[1;33m:\u001b[0m\u001b[1;33m\u001b[0m\u001b[1;33m\u001b[0m\u001b[0m\n\u001b[1;32m----> 2\u001b[1;33m     \u001b[0mresponse\u001b[0m \u001b[1;33m=\u001b[0m \u001b[0mrequests\u001b[0m\u001b[1;33m.\u001b[0m\u001b[0mget\u001b[0m\u001b[1;33m(\u001b[0m\u001b[0murl\u001b[0m\u001b[1;33m)\u001b[0m\u001b[1;33m.\u001b[0m\u001b[0mtext\u001b[0m\u001b[1;33m\u001b[0m\u001b[1;33m\u001b[0m\u001b[0m\n\u001b[0m\u001b[0;32m      3\u001b[0m     \u001b[0msoup\u001b[0m \u001b[1;33m=\u001b[0m \u001b[0mbs\u001b[0m\u001b[1;33m(\u001b[0m\u001b[0mresponse\u001b[0m\u001b[1;33m)\u001b[0m\u001b[1;33m\u001b[0m\u001b[1;33m\u001b[0m\u001b[0m\n\u001b[0;32m      4\u001b[0m     \u001b[1;32mreturn\u001b[0m \u001b[0msoup\u001b[0m\u001b[1;33m\u001b[0m\u001b[1;33m\u001b[0m\u001b[0m\n",
      "\u001b[1;32m~\\Anaconda3\\lib\\site-packages\\requests\\api.py\u001b[0m in \u001b[0;36mget\u001b[1;34m(url, params, **kwargs)\u001b[0m\n\u001b[0;32m     73\u001b[0m \u001b[1;33m\u001b[0m\u001b[0m\n\u001b[0;32m     74\u001b[0m     \u001b[0mkwargs\u001b[0m\u001b[1;33m.\u001b[0m\u001b[0msetdefault\u001b[0m\u001b[1;33m(\u001b[0m\u001b[1;34m'allow_redirects'\u001b[0m\u001b[1;33m,\u001b[0m \u001b[1;32mTrue\u001b[0m\u001b[1;33m)\u001b[0m\u001b[1;33m\u001b[0m\u001b[1;33m\u001b[0m\u001b[0m\n\u001b[1;32m---> 75\u001b[1;33m     \u001b[1;32mreturn\u001b[0m \u001b[0mrequest\u001b[0m\u001b[1;33m(\u001b[0m\u001b[1;34m'get'\u001b[0m\u001b[1;33m,\u001b[0m \u001b[0murl\u001b[0m\u001b[1;33m,\u001b[0m \u001b[0mparams\u001b[0m\u001b[1;33m=\u001b[0m\u001b[0mparams\u001b[0m\u001b[1;33m,\u001b[0m \u001b[1;33m**\u001b[0m\u001b[0mkwargs\u001b[0m\u001b[1;33m)\u001b[0m\u001b[1;33m\u001b[0m\u001b[1;33m\u001b[0m\u001b[0m\n\u001b[0m\u001b[0;32m     76\u001b[0m \u001b[1;33m\u001b[0m\u001b[0m\n\u001b[0;32m     77\u001b[0m \u001b[1;33m\u001b[0m\u001b[0m\n",
      "\u001b[1;32m~\\Anaconda3\\lib\\site-packages\\requests\\api.py\u001b[0m in \u001b[0;36mrequest\u001b[1;34m(method, url, **kwargs)\u001b[0m\n\u001b[0;32m     58\u001b[0m     \u001b[1;31m# cases, and look like a memory leak in others.\u001b[0m\u001b[1;33m\u001b[0m\u001b[1;33m\u001b[0m\u001b[1;33m\u001b[0m\u001b[0m\n\u001b[0;32m     59\u001b[0m     \u001b[1;32mwith\u001b[0m \u001b[0msessions\u001b[0m\u001b[1;33m.\u001b[0m\u001b[0mSession\u001b[0m\u001b[1;33m(\u001b[0m\u001b[1;33m)\u001b[0m \u001b[1;32mas\u001b[0m \u001b[0msession\u001b[0m\u001b[1;33m:\u001b[0m\u001b[1;33m\u001b[0m\u001b[1;33m\u001b[0m\u001b[0m\n\u001b[1;32m---> 60\u001b[1;33m         \u001b[1;32mreturn\u001b[0m \u001b[0msession\u001b[0m\u001b[1;33m.\u001b[0m\u001b[0mrequest\u001b[0m\u001b[1;33m(\u001b[0m\u001b[0mmethod\u001b[0m\u001b[1;33m=\u001b[0m\u001b[0mmethod\u001b[0m\u001b[1;33m,\u001b[0m \u001b[0murl\u001b[0m\u001b[1;33m=\u001b[0m\u001b[0murl\u001b[0m\u001b[1;33m,\u001b[0m \u001b[1;33m**\u001b[0m\u001b[0mkwargs\u001b[0m\u001b[1;33m)\u001b[0m\u001b[1;33m\u001b[0m\u001b[1;33m\u001b[0m\u001b[0m\n\u001b[0m\u001b[0;32m     61\u001b[0m \u001b[1;33m\u001b[0m\u001b[0m\n\u001b[0;32m     62\u001b[0m \u001b[1;33m\u001b[0m\u001b[0m\n",
      "\u001b[1;32m~\\Anaconda3\\lib\\site-packages\\requests\\sessions.py\u001b[0m in \u001b[0;36mrequest\u001b[1;34m(self, method, url, params, data, headers, cookies, files, auth, timeout, allow_redirects, proxies, hooks, stream, verify, cert, json)\u001b[0m\n\u001b[0;32m    531\u001b[0m         }\n\u001b[0;32m    532\u001b[0m         \u001b[0msend_kwargs\u001b[0m\u001b[1;33m.\u001b[0m\u001b[0mupdate\u001b[0m\u001b[1;33m(\u001b[0m\u001b[0msettings\u001b[0m\u001b[1;33m)\u001b[0m\u001b[1;33m\u001b[0m\u001b[1;33m\u001b[0m\u001b[0m\n\u001b[1;32m--> 533\u001b[1;33m         \u001b[0mresp\u001b[0m \u001b[1;33m=\u001b[0m \u001b[0mself\u001b[0m\u001b[1;33m.\u001b[0m\u001b[0msend\u001b[0m\u001b[1;33m(\u001b[0m\u001b[0mprep\u001b[0m\u001b[1;33m,\u001b[0m \u001b[1;33m**\u001b[0m\u001b[0msend_kwargs\u001b[0m\u001b[1;33m)\u001b[0m\u001b[1;33m\u001b[0m\u001b[1;33m\u001b[0m\u001b[0m\n\u001b[0m\u001b[0;32m    534\u001b[0m \u001b[1;33m\u001b[0m\u001b[0m\n\u001b[0;32m    535\u001b[0m         \u001b[1;32mreturn\u001b[0m \u001b[0mresp\u001b[0m\u001b[1;33m\u001b[0m\u001b[1;33m\u001b[0m\u001b[0m\n",
      "\u001b[1;32m~\\Anaconda3\\lib\\site-packages\\requests\\sessions.py\u001b[0m in \u001b[0;36msend\u001b[1;34m(self, request, **kwargs)\u001b[0m\n\u001b[0;32m    644\u001b[0m \u001b[1;33m\u001b[0m\u001b[0m\n\u001b[0;32m    645\u001b[0m         \u001b[1;31m# Send the request\u001b[0m\u001b[1;33m\u001b[0m\u001b[1;33m\u001b[0m\u001b[1;33m\u001b[0m\u001b[0m\n\u001b[1;32m--> 646\u001b[1;33m         \u001b[0mr\u001b[0m \u001b[1;33m=\u001b[0m \u001b[0madapter\u001b[0m\u001b[1;33m.\u001b[0m\u001b[0msend\u001b[0m\u001b[1;33m(\u001b[0m\u001b[0mrequest\u001b[0m\u001b[1;33m,\u001b[0m \u001b[1;33m**\u001b[0m\u001b[0mkwargs\u001b[0m\u001b[1;33m)\u001b[0m\u001b[1;33m\u001b[0m\u001b[1;33m\u001b[0m\u001b[0m\n\u001b[0m\u001b[0;32m    647\u001b[0m \u001b[1;33m\u001b[0m\u001b[0m\n\u001b[0;32m    648\u001b[0m         \u001b[1;31m# Total elapsed time of the request (approximately)\u001b[0m\u001b[1;33m\u001b[0m\u001b[1;33m\u001b[0m\u001b[1;33m\u001b[0m\u001b[0m\n",
      "\u001b[1;32m~\\Anaconda3\\lib\\site-packages\\requests\\adapters.py\u001b[0m in \u001b[0;36msend\u001b[1;34m(self, request, stream, timeout, verify, cert, proxies)\u001b[0m\n\u001b[0;32m    447\u001b[0m                     \u001b[0mdecode_content\u001b[0m\u001b[1;33m=\u001b[0m\u001b[1;32mFalse\u001b[0m\u001b[1;33m,\u001b[0m\u001b[1;33m\u001b[0m\u001b[1;33m\u001b[0m\u001b[0m\n\u001b[0;32m    448\u001b[0m                     \u001b[0mretries\u001b[0m\u001b[1;33m=\u001b[0m\u001b[0mself\u001b[0m\u001b[1;33m.\u001b[0m\u001b[0mmax_retries\u001b[0m\u001b[1;33m,\u001b[0m\u001b[1;33m\u001b[0m\u001b[1;33m\u001b[0m\u001b[0m\n\u001b[1;32m--> 449\u001b[1;33m                     \u001b[0mtimeout\u001b[0m\u001b[1;33m=\u001b[0m\u001b[0mtimeout\u001b[0m\u001b[1;33m\u001b[0m\u001b[1;33m\u001b[0m\u001b[0m\n\u001b[0m\u001b[0;32m    450\u001b[0m                 )\n\u001b[0;32m    451\u001b[0m \u001b[1;33m\u001b[0m\u001b[0m\n",
      "\u001b[1;32m~\\Anaconda3\\lib\\site-packages\\urllib3\\connectionpool.py\u001b[0m in \u001b[0;36murlopen\u001b[1;34m(self, method, url, body, headers, retries, redirect, assert_same_host, timeout, pool_timeout, release_conn, chunked, body_pos, **response_kw)\u001b[0m\n\u001b[0;32m    598\u001b[0m                                                   \u001b[0mtimeout\u001b[0m\u001b[1;33m=\u001b[0m\u001b[0mtimeout_obj\u001b[0m\u001b[1;33m,\u001b[0m\u001b[1;33m\u001b[0m\u001b[1;33m\u001b[0m\u001b[0m\n\u001b[0;32m    599\u001b[0m                                                   \u001b[0mbody\u001b[0m\u001b[1;33m=\u001b[0m\u001b[0mbody\u001b[0m\u001b[1;33m,\u001b[0m \u001b[0mheaders\u001b[0m\u001b[1;33m=\u001b[0m\u001b[0mheaders\u001b[0m\u001b[1;33m,\u001b[0m\u001b[1;33m\u001b[0m\u001b[1;33m\u001b[0m\u001b[0m\n\u001b[1;32m--> 600\u001b[1;33m                                                   chunked=chunked)\n\u001b[0m\u001b[0;32m    601\u001b[0m \u001b[1;33m\u001b[0m\u001b[0m\n\u001b[0;32m    602\u001b[0m             \u001b[1;31m# If we're going to release the connection in ``finally:``, then\u001b[0m\u001b[1;33m\u001b[0m\u001b[1;33m\u001b[0m\u001b[1;33m\u001b[0m\u001b[0m\n",
      "\u001b[1;32m~\\Anaconda3\\lib\\site-packages\\urllib3\\connectionpool.py\u001b[0m in \u001b[0;36m_make_request\u001b[1;34m(self, conn, method, url, timeout, chunked, **httplib_request_kw)\u001b[0m\n\u001b[0;32m    341\u001b[0m         \u001b[1;31m# Trigger any extra validation we need to do.\u001b[0m\u001b[1;33m\u001b[0m\u001b[1;33m\u001b[0m\u001b[1;33m\u001b[0m\u001b[0m\n\u001b[0;32m    342\u001b[0m         \u001b[1;32mtry\u001b[0m\u001b[1;33m:\u001b[0m\u001b[1;33m\u001b[0m\u001b[1;33m\u001b[0m\u001b[0m\n\u001b[1;32m--> 343\u001b[1;33m             \u001b[0mself\u001b[0m\u001b[1;33m.\u001b[0m\u001b[0m_validate_conn\u001b[0m\u001b[1;33m(\u001b[0m\u001b[0mconn\u001b[0m\u001b[1;33m)\u001b[0m\u001b[1;33m\u001b[0m\u001b[1;33m\u001b[0m\u001b[0m\n\u001b[0m\u001b[0;32m    344\u001b[0m         \u001b[1;32mexcept\u001b[0m \u001b[1;33m(\u001b[0m\u001b[0mSocketTimeout\u001b[0m\u001b[1;33m,\u001b[0m \u001b[0mBaseSSLError\u001b[0m\u001b[1;33m)\u001b[0m \u001b[1;32mas\u001b[0m \u001b[0me\u001b[0m\u001b[1;33m:\u001b[0m\u001b[1;33m\u001b[0m\u001b[1;33m\u001b[0m\u001b[0m\n\u001b[0;32m    345\u001b[0m             \u001b[1;31m# Py2 raises this as a BaseSSLError, Py3 raises it as socket timeout.\u001b[0m\u001b[1;33m\u001b[0m\u001b[1;33m\u001b[0m\u001b[1;33m\u001b[0m\u001b[0m\n",
      "\u001b[1;32m~\\Anaconda3\\lib\\site-packages\\urllib3\\connectionpool.py\u001b[0m in \u001b[0;36m_validate_conn\u001b[1;34m(self, conn)\u001b[0m\n\u001b[0;32m    837\u001b[0m         \u001b[1;31m# Force connect early to allow us to validate the connection.\u001b[0m\u001b[1;33m\u001b[0m\u001b[1;33m\u001b[0m\u001b[1;33m\u001b[0m\u001b[0m\n\u001b[0;32m    838\u001b[0m         \u001b[1;32mif\u001b[0m \u001b[1;32mnot\u001b[0m \u001b[0mgetattr\u001b[0m\u001b[1;33m(\u001b[0m\u001b[0mconn\u001b[0m\u001b[1;33m,\u001b[0m \u001b[1;34m'sock'\u001b[0m\u001b[1;33m,\u001b[0m \u001b[1;32mNone\u001b[0m\u001b[1;33m)\u001b[0m\u001b[1;33m:\u001b[0m  \u001b[1;31m# AppEngine might not have  `.sock`\u001b[0m\u001b[1;33m\u001b[0m\u001b[1;33m\u001b[0m\u001b[0m\n\u001b[1;32m--> 839\u001b[1;33m             \u001b[0mconn\u001b[0m\u001b[1;33m.\u001b[0m\u001b[0mconnect\u001b[0m\u001b[1;33m(\u001b[0m\u001b[1;33m)\u001b[0m\u001b[1;33m\u001b[0m\u001b[1;33m\u001b[0m\u001b[0m\n\u001b[0m\u001b[0;32m    840\u001b[0m \u001b[1;33m\u001b[0m\u001b[0m\n\u001b[0;32m    841\u001b[0m         \u001b[1;32mif\u001b[0m \u001b[1;32mnot\u001b[0m \u001b[0mconn\u001b[0m\u001b[1;33m.\u001b[0m\u001b[0mis_verified\u001b[0m\u001b[1;33m:\u001b[0m\u001b[1;33m\u001b[0m\u001b[1;33m\u001b[0m\u001b[0m\n",
      "\u001b[1;32m~\\Anaconda3\\lib\\site-packages\\urllib3\\connection.py\u001b[0m in \u001b[0;36mconnect\u001b[1;34m(self)\u001b[0m\n\u001b[0;32m    342\u001b[0m             \u001b[0mca_cert_dir\u001b[0m\u001b[1;33m=\u001b[0m\u001b[0mself\u001b[0m\u001b[1;33m.\u001b[0m\u001b[0mca_cert_dir\u001b[0m\u001b[1;33m,\u001b[0m\u001b[1;33m\u001b[0m\u001b[1;33m\u001b[0m\u001b[0m\n\u001b[0;32m    343\u001b[0m             \u001b[0mserver_hostname\u001b[0m\u001b[1;33m=\u001b[0m\u001b[0mserver_hostname\u001b[0m\u001b[1;33m,\u001b[0m\u001b[1;33m\u001b[0m\u001b[1;33m\u001b[0m\u001b[0m\n\u001b[1;32m--> 344\u001b[1;33m             ssl_context=context)\n\u001b[0m\u001b[0;32m    345\u001b[0m \u001b[1;33m\u001b[0m\u001b[0m\n\u001b[0;32m    346\u001b[0m         \u001b[1;32mif\u001b[0m \u001b[0mself\u001b[0m\u001b[1;33m.\u001b[0m\u001b[0massert_fingerprint\u001b[0m\u001b[1;33m:\u001b[0m\u001b[1;33m\u001b[0m\u001b[1;33m\u001b[0m\u001b[0m\n",
      "\u001b[1;32m~\\Anaconda3\\lib\\site-packages\\urllib3\\util\\ssl_.py\u001b[0m in \u001b[0;36mssl_wrap_socket\u001b[1;34m(sock, keyfile, certfile, cert_reqs, ca_certs, server_hostname, ssl_version, ciphers, ssl_context, ca_cert_dir)\u001b[0m\n\u001b[0;32m    342\u001b[0m             or IS_SECURETRANSPORT):\n\u001b[0;32m    343\u001b[0m         \u001b[1;32mif\u001b[0m \u001b[0mHAS_SNI\u001b[0m \u001b[1;32mand\u001b[0m \u001b[0mserver_hostname\u001b[0m \u001b[1;32mis\u001b[0m \u001b[1;32mnot\u001b[0m \u001b[1;32mNone\u001b[0m\u001b[1;33m:\u001b[0m\u001b[1;33m\u001b[0m\u001b[1;33m\u001b[0m\u001b[0m\n\u001b[1;32m--> 344\u001b[1;33m             \u001b[1;32mreturn\u001b[0m \u001b[0mcontext\u001b[0m\u001b[1;33m.\u001b[0m\u001b[0mwrap_socket\u001b[0m\u001b[1;33m(\u001b[0m\u001b[0msock\u001b[0m\u001b[1;33m,\u001b[0m \u001b[0mserver_hostname\u001b[0m\u001b[1;33m=\u001b[0m\u001b[0mserver_hostname\u001b[0m\u001b[1;33m)\u001b[0m\u001b[1;33m\u001b[0m\u001b[1;33m\u001b[0m\u001b[0m\n\u001b[0m\u001b[0;32m    345\u001b[0m \u001b[1;33m\u001b[0m\u001b[0m\n\u001b[0;32m    346\u001b[0m         warnings.warn(\n",
      "\u001b[1;32m~\\Anaconda3\\lib\\site-packages\\urllib3\\contrib\\pyopenssl.py\u001b[0m in \u001b[0;36mwrap_socket\u001b[1;34m(self, sock, server_side, do_handshake_on_connect, suppress_ragged_eofs, server_hostname)\u001b[0m\n\u001b[0;32m    451\u001b[0m         \u001b[1;32mwhile\u001b[0m \u001b[1;32mTrue\u001b[0m\u001b[1;33m:\u001b[0m\u001b[1;33m\u001b[0m\u001b[1;33m\u001b[0m\u001b[0m\n\u001b[0;32m    452\u001b[0m             \u001b[1;32mtry\u001b[0m\u001b[1;33m:\u001b[0m\u001b[1;33m\u001b[0m\u001b[1;33m\u001b[0m\u001b[0m\n\u001b[1;32m--> 453\u001b[1;33m                 \u001b[0mcnx\u001b[0m\u001b[1;33m.\u001b[0m\u001b[0mdo_handshake\u001b[0m\u001b[1;33m(\u001b[0m\u001b[1;33m)\u001b[0m\u001b[1;33m\u001b[0m\u001b[1;33m\u001b[0m\u001b[0m\n\u001b[0m\u001b[0;32m    454\u001b[0m             \u001b[1;32mexcept\u001b[0m \u001b[0mOpenSSL\u001b[0m\u001b[1;33m.\u001b[0m\u001b[0mSSL\u001b[0m\u001b[1;33m.\u001b[0m\u001b[0mWantReadError\u001b[0m\u001b[1;33m:\u001b[0m\u001b[1;33m\u001b[0m\u001b[1;33m\u001b[0m\u001b[0m\n\u001b[0;32m    455\u001b[0m                 \u001b[1;32mif\u001b[0m \u001b[1;32mnot\u001b[0m \u001b[0mutil\u001b[0m\u001b[1;33m.\u001b[0m\u001b[0mwait_for_read\u001b[0m\u001b[1;33m(\u001b[0m\u001b[0msock\u001b[0m\u001b[1;33m,\u001b[0m \u001b[0msock\u001b[0m\u001b[1;33m.\u001b[0m\u001b[0mgettimeout\u001b[0m\u001b[1;33m(\u001b[0m\u001b[1;33m)\u001b[0m\u001b[1;33m)\u001b[0m\u001b[1;33m:\u001b[0m\u001b[1;33m\u001b[0m\u001b[1;33m\u001b[0m\u001b[0m\n",
      "\u001b[1;32m~\\Anaconda3\\lib\\site-packages\\OpenSSL\\SSL.py\u001b[0m in \u001b[0;36mdo_handshake\u001b[1;34m(self)\u001b[0m\n\u001b[0;32m   1904\u001b[0m         \u001b[1;33m:\u001b[0m\u001b[1;32mreturn\u001b[0m\u001b[1;33m:\u001b[0m \u001b[1;32mNone\u001b[0m\u001b[1;33m.\u001b[0m\u001b[1;33m\u001b[0m\u001b[1;33m\u001b[0m\u001b[0m\n\u001b[0;32m   1905\u001b[0m         \"\"\"\n\u001b[1;32m-> 1906\u001b[1;33m         \u001b[0mresult\u001b[0m \u001b[1;33m=\u001b[0m \u001b[0m_lib\u001b[0m\u001b[1;33m.\u001b[0m\u001b[0mSSL_do_handshake\u001b[0m\u001b[1;33m(\u001b[0m\u001b[0mself\u001b[0m\u001b[1;33m.\u001b[0m\u001b[0m_ssl\u001b[0m\u001b[1;33m)\u001b[0m\u001b[1;33m\u001b[0m\u001b[1;33m\u001b[0m\u001b[0m\n\u001b[0m\u001b[0;32m   1907\u001b[0m         \u001b[0mself\u001b[0m\u001b[1;33m.\u001b[0m\u001b[0m_raise_ssl_error\u001b[0m\u001b[1;33m(\u001b[0m\u001b[0mself\u001b[0m\u001b[1;33m.\u001b[0m\u001b[0m_ssl\u001b[0m\u001b[1;33m,\u001b[0m \u001b[0mresult\u001b[0m\u001b[1;33m)\u001b[0m\u001b[1;33m\u001b[0m\u001b[1;33m\u001b[0m\u001b[0m\n\u001b[0;32m   1908\u001b[0m \u001b[1;33m\u001b[0m\u001b[0m\n",
      "\u001b[1;31mKeyboardInterrupt\u001b[0m: "
     ]
    }
   ],
   "source": [
    "linneburg_ratings = scrape_account_ratings('joshlinneburg') "
   ]
  },
  {
   "cell_type": "code",
   "execution_count": null,
   "metadata": {},
   "outputs": [],
   "source": [
    "linneburg_ratings"
   ]
  }
 ],
 "metadata": {
  "kernelspec": {
   "display_name": "Python 3",
   "language": "python",
   "name": "python3"
  },
  "language_info": {
   "codemirror_mode": {
    "name": "ipython",
    "version": 3
   },
   "file_extension": ".py",
   "mimetype": "text/x-python",
   "name": "python",
   "nbconvert_exporter": "python",
   "pygments_lexer": "ipython3",
   "version": "3.7.1"
  }
 },
 "nbformat": 4,
 "nbformat_minor": 2
}
