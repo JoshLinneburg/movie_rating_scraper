{
 "cells": [
  {
   "cell_type": "markdown",
   "metadata": {},
   "source": [
    "As always, we start by importing our libraries. "
   ]
  },
  {
   "cell_type": "code",
   "execution_count": 3,
   "metadata": {},
   "outputs": [],
   "source": [
    "from bs4 import BeautifulSoup as bs\n",
    "import json\n",
    "import matplotlib as mpl\n",
    "import pandas\n",
    "import re\n",
    "import requests\n",
    "import seaborn as sns\n",
    "import unicodedata as uni"
   ]
  },
  {
   "cell_type": "markdown",
   "metadata": {},
   "source": [
    "First, let's setup the URLs that'll be driving our data analytics project here."
   ]
  },
  {
   "cell_type": "code",
   "execution_count": 8,
   "metadata": {},
   "outputs": [],
   "source": [
    "base_url = 'https://letterboxd.com/'\n",
    "account_name = 'JoshLinneburg'\n",
    "ratings_url = base_url + account_name + '/films/ratings/by/rating/'"
   ]
  },
  {
   "cell_type": "markdown",
   "metadata": {},
   "source": [
    "And let's just scrape the webpage of interest; the films by rating on my account."
   ]
  },
  {
   "cell_type": "code",
   "execution_count": 10,
   "metadata": {},
   "outputs": [],
   "source": [
    "response = requests.get(ratings_url).text\n",
    "soup = bs(response)"
   ]
  },
  {
   "cell_type": "markdown",
   "metadata": {},
   "source": [
    "First thing we're going to do: Figure out how to itemize the films that have been rated *on a single page*"
   ]
  },
  {
   "cell_type": "code",
   "execution_count": 26,
   "metadata": {
    "scrolled": true
   },
   "outputs": [
    {
     "data": {
      "text/plain": [
       "[<li class=\"poster-container\">\n",
       " <div class=\"poster film-poster really-lazy-load\" data-film-id=\"50713\" data-film-slug=\"/film/the-empire-strikes-back/\" data-image-height=\"225\" data-image-width=\"150\" data-linked=\"linked\" data-menu=\"menu\" data-target-link=\"/film/the-empire-strikes-back/\" data-target-link-target=\"\"> <img alt=\"The Empire Strikes Back\" class=\"image\" height=\"225\" src=\"https://s.ltrbxd.com/static/img/empty-poster-150.469d00af.png\" width=\"150\"/><span class=\"frame\"><span class=\"frame-title\"></span></span> </div>\n",
       " <p class=\"poster-viewingdata\">\n",
       " <span class=\"rating rated-10\"> ★★★★★ </span>\n",
       " <time class=\"localtime-mmm-dd\" datetime=\"2019-12-06T04:24:11Z\"></time>\n",
       " </p>\n",
       " </li>, <li class=\"poster-container\">\n",
       " <div class=\"poster film-poster really-lazy-load\" data-film-id=\"51896\" data-film-slug=\"/film/the-dark-knight/\" data-image-height=\"225\" data-image-width=\"150\" data-linked=\"linked\" data-menu=\"menu\" data-target-link=\"/film/the-dark-knight/\" data-target-link-target=\"\"> <img alt=\"The Dark Knight\" class=\"image\" height=\"225\" src=\"https://s.ltrbxd.com/static/img/empty-poster-150.469d00af.png\" width=\"150\"/><span class=\"frame\"><span class=\"frame-title\"></span></span> </div>\n",
       " <p class=\"poster-viewingdata\">\n",
       " <span class=\"rating rated-10\"> ★★★★★ </span>\n",
       " <time class=\"localtime-mmm-dd\" datetime=\"2019-12-06T16:33:06Z\"></time>\n",
       " </p>\n",
       " </li>, <li class=\"poster-container\">\n",
       " <div class=\"poster film-poster really-lazy-load\" data-film-id=\"51778\" data-film-slug=\"/film/the-shawshank-redemption/\" data-image-height=\"225\" data-image-width=\"150\" data-linked=\"linked\" data-menu=\"menu\" data-target-link=\"/film/the-shawshank-redemption/\" data-target-link-target=\"\"> <img alt=\"The Shawshank Redemption\" class=\"image\" height=\"225\" src=\"https://s.ltrbxd.com/static/img/empty-poster-150.469d00af.png\" width=\"150\"/><span class=\"frame\"><span class=\"frame-title\"></span></span> </div>\n",
       " <p class=\"poster-viewingdata\">\n",
       " <span class=\"rating rated-10\"> ★★★★★ </span>\n",
       " <time class=\"localtime-mmm-dd\" datetime=\"2019-12-06T04:34:32Z\"></time>\n",
       " </p>\n",
       " </li>, <li class=\"poster-container\">\n",
       " <div class=\"poster film-poster really-lazy-load\" data-film-id=\"51928\" data-film-slug=\"/film/the-lord-of-the-rings-the-return-of-the-king/\" data-image-height=\"225\" data-image-width=\"150\" data-linked=\"linked\" data-menu=\"menu\" data-target-link=\"/film/the-lord-of-the-rings-the-return-of-the-king/\" data-target-link-target=\"\"> <img alt=\"The Lord of the Rings: The Return of the King\" class=\"image\" height=\"225\" src=\"https://s.ltrbxd.com/static/img/empty-poster-150.469d00af.png\" width=\"150\"/><span class=\"frame\"><span class=\"frame-title\"></span></span> </div>\n",
       " <p class=\"poster-viewingdata\">\n",
       " <span class=\"rating rated-9\"> ★★★★½ </span>\n",
       " <time class=\"localtime-mmm-dd\" datetime=\"2019-12-06T04:33:44Z\"></time>\n",
       " </p>\n",
       " </li>, <li class=\"poster-container\">\n",
       " <div class=\"poster film-poster really-lazy-load\" data-film-id=\"51930\" data-film-slug=\"/film/the-lord-of-the-rings-the-fellowship-of-the-ring/\" data-image-height=\"225\" data-image-width=\"150\" data-linked=\"linked\" data-menu=\"menu\" data-target-link=\"/film/the-lord-of-the-rings-the-fellowship-of-the-ring/\" data-target-link-target=\"\"> <img alt=\"The Lord of the Rings: The Fellowship of the Ring\" class=\"image\" height=\"225\" src=\"https://s.ltrbxd.com/static/img/empty-poster-150.469d00af.png\" width=\"150\"/><span class=\"frame\"><span class=\"frame-title\"></span></span> </div>\n",
       " <p class=\"poster-viewingdata\">\n",
       " <span class=\"rating rated-10\"> ★★★★★ </span>\n",
       " <time class=\"localtime-mmm-dd\" datetime=\"2019-12-06T03:57:43Z\"></time>\n",
       " </p>\n",
       " </li>, <li class=\"poster-container\">\n",
       " <div class=\"poster film-poster really-lazy-load\" data-film-id=\"2706\" data-film-slug=\"/film/star-wars/\" data-image-height=\"225\" data-image-width=\"150\" data-linked=\"linked\" data-menu=\"menu\" data-target-link=\"/film/star-wars/\" data-target-link-target=\"\"> <img alt=\"Star Wars\" class=\"image\" height=\"225\" src=\"https://s.ltrbxd.com/static/img/empty-poster-150.469d00af.png\" width=\"150\"/><span class=\"frame\"><span class=\"frame-title\"></span></span> </div>\n",
       " <p class=\"poster-viewingdata\">\n",
       " <span class=\"rating rated-9\"> ★★★★½ </span>\n",
       " <time class=\"localtime-mmm-dd\" datetime=\"2019-12-06T04:39:09Z\"></time>\n",
       " </p>\n",
       " </li>, <li class=\"poster-container\">\n",
       " <div class=\"poster film-poster really-lazy-load\" data-film-id=\"47677\" data-film-slug=\"/film/the-lion-king/\" data-image-height=\"225\" data-image-width=\"150\" data-linked=\"linked\" data-menu=\"menu\" data-target-link=\"/film/the-lion-king/\" data-target-link-target=\"\"> <img alt=\"The Lion King\" class=\"image\" height=\"225\" src=\"https://s.ltrbxd.com/static/img/empty-poster-150.469d00af.png\" width=\"150\"/><span class=\"frame\"><span class=\"frame-title\"></span></span> </div>\n",
       " <p class=\"poster-viewingdata\">\n",
       " <span class=\"rating rated-9\"> ★★★★½ </span>\n",
       " <time class=\"localtime-mmm-dd\" datetime=\"2019-12-06T16:34:07Z\"></time>\n",
       " </p>\n",
       " </li>, <li class=\"poster-container\">\n",
       " <div class=\"poster film-poster really-lazy-load\" data-film-id=\"51929\" data-film-slug=\"/film/the-lord-of-the-rings-the-two-towers/\" data-image-height=\"225\" data-image-width=\"150\" data-linked=\"linked\" data-menu=\"menu\" data-target-link=\"/film/the-lord-of-the-rings-the-two-towers/\" data-target-link-target=\"\"> <img alt=\"The Lord of the Rings: The Two Towers\" class=\"image\" height=\"225\" src=\"https://s.ltrbxd.com/static/img/empty-poster-150.469d00af.png\" width=\"150\"/><span class=\"frame\"><span class=\"frame-title\"></span></span> </div>\n",
       " <p class=\"poster-viewingdata\">\n",
       " <span class=\"rating rated-9\"> ★★★★½ </span>\n",
       " <time class=\"localtime-mmm-dd\" datetime=\"2019-12-06T04:33:36Z\"></time>\n",
       " </p>\n",
       " </li>, <li class=\"poster-container\">\n",
       " <div class=\"poster film-poster really-lazy-load\" data-film-id=\"51965\" data-film-slug=\"/film/raiders-of-the-lost-ark/\" data-image-height=\"225\" data-image-width=\"150\" data-linked=\"linked\" data-menu=\"menu\" data-target-link=\"/film/raiders-of-the-lost-ark/\" data-target-link-target=\"\"> <img alt=\"Raiders of the Lost Ark\" class=\"image\" height=\"225\" src=\"https://s.ltrbxd.com/static/img/empty-poster-150.469d00af.png\" width=\"150\"/><span class=\"frame\"><span class=\"frame-title\"></span></span> </div>\n",
       " <p class=\"poster-viewingdata\">\n",
       " <span class=\"rating rated-9\"> ★★★★½ </span>\n",
       " <time class=\"localtime-mmm-dd\" datetime=\"2019-12-06T04:39:13Z\"></time>\n",
       " </p>\n",
       " </li>, <li class=\"poster-container\">\n",
       " <div class=\"poster film-poster really-lazy-load\" data-film-id=\"51290\" data-film-slug=\"/film/toy-story/\" data-image-height=\"225\" data-image-width=\"150\" data-linked=\"linked\" data-menu=\"menu\" data-target-link=\"/film/toy-story/\" data-target-link-target=\"\"> <img alt=\"Toy Story\" class=\"image\" height=\"225\" src=\"https://s.ltrbxd.com/static/img/empty-poster-150.469d00af.png\" width=\"150\"/><span class=\"frame\"><span class=\"frame-title\"></span></span> </div>\n",
       " <p class=\"poster-viewingdata\">\n",
       " <span class=\"rating rated-10\"> ★★★★★ </span>\n",
       " <time class=\"localtime-mmm-dd\" datetime=\"2019-12-06T04:34:45Z\"></time>\n",
       " </p>\n",
       " </li>, <li class=\"poster-container\">\n",
       " <div class=\"poster film-poster really-lazy-load\" data-film-id=\"51776\" data-film-slug=\"/film/terminator-2-judgment-day/\" data-image-height=\"225\" data-image-width=\"150\" data-linked=\"linked\" data-menu=\"menu\" data-target-link=\"/film/terminator-2-judgment-day/\" data-target-link-target=\"\"> <img alt=\"Terminator 2: Judgment Day\" class=\"image\" height=\"225\" src=\"https://s.ltrbxd.com/static/img/empty-poster-150.469d00af.png\" width=\"150\"/><span class=\"frame\"><span class=\"frame-title\"></span></span> </div>\n",
       " <p class=\"poster-viewingdata\">\n",
       " <span class=\"rating rated-10\"> ★★★★★ </span>\n",
       " <time class=\"localtime-mmm-dd\" datetime=\"2019-12-06T04:37:09Z\"></time>\n",
       " </p>\n",
       " </li>, <li class=\"poster-container\">\n",
       " <div class=\"poster film-poster really-lazy-load\" data-film-id=\"62780\" data-film-slug=\"/film/mad-max-fury-road/\" data-image-height=\"225\" data-image-width=\"150\" data-linked=\"linked\" data-menu=\"menu\" data-target-link=\"/film/mad-max-fury-road/\" data-target-link-target=\"\"> <img alt=\"Mad Max: Fury Road\" class=\"image\" height=\"225\" src=\"https://s.ltrbxd.com/static/img/empty-poster-150.469d00af.png\" width=\"150\"/><span class=\"frame\"><span class=\"frame-title\"></span></span> </div>\n",
       " <p class=\"poster-viewingdata\">\n",
       " <span class=\"rating rated-10\"> ★★★★★ </span>\n",
       " <time class=\"localtime-mmm-dd\" datetime=\"2019-12-06T03:44:38Z\"></time>\n",
       " </p>\n",
       " </li>, <li class=\"poster-container\">\n",
       " <div class=\"poster film-poster really-lazy-load\" data-film-id=\"51042\" data-film-slug=\"/film/the-departed/\" data-image-height=\"225\" data-image-width=\"150\" data-linked=\"linked\" data-menu=\"menu\" data-target-link=\"/film/the-departed/\" data-target-link-target=\"\"> <img alt=\"The Departed\" class=\"image\" height=\"225\" src=\"https://s.ltrbxd.com/static/img/empty-poster-150.469d00af.png\" width=\"150\"/><span class=\"frame\"><span class=\"frame-title\"></span></span> </div>\n",
       " <p class=\"poster-viewingdata\">\n",
       " <span class=\"rating rated-10\"> ★★★★★ </span>\n",
       " <time class=\"localtime-mmm-dd\" datetime=\"2019-12-06T16:32:53Z\"></time>\n",
       " </p>\n",
       " </li>, <li class=\"poster-container\">\n",
       " <div class=\"poster film-poster really-lazy-load\" data-film-id=\"51295\" data-film-slug=\"/film/saving-private-ryan/\" data-image-height=\"225\" data-image-width=\"150\" data-linked=\"linked\" data-menu=\"menu\" data-target-link=\"/film/saving-private-ryan/\" data-target-link-target=\"\"> <img alt=\"Saving Private Ryan\" class=\"image\" height=\"225\" src=\"https://s.ltrbxd.com/static/img/empty-poster-150.469d00af.png\" width=\"150\"/><span class=\"frame\"><span class=\"frame-title\"></span></span> </div>\n",
       " <p class=\"poster-viewingdata\">\n",
       " <span class=\"rating rated-10\"> ★★★★★ </span>\n",
       " <time class=\"localtime-mmm-dd\" datetime=\"2019-12-06T04:41:13Z\"></time>\n",
       " </p>\n",
       " </li>, <li class=\"poster-container\">\n",
       " <div class=\"poster film-poster really-lazy-load\" data-film-id=\"46280\" data-film-slug=\"/film/the-iron-giant/\" data-image-height=\"225\" data-image-width=\"150\" data-linked=\"linked\" data-menu=\"menu\" data-target-link=\"/film/the-iron-giant/\" data-target-link-target=\"\"> <img alt=\"The Iron Giant\" class=\"image\" height=\"225\" src=\"https://s.ltrbxd.com/static/img/empty-poster-150.469d00af.png\" width=\"150\"/><span class=\"frame\"><span class=\"frame-title\"></span></span> </div>\n",
       " <p class=\"poster-viewingdata\">\n",
       " <span class=\"rating rated-9\"> ★★★★½ </span>\n",
       " <time class=\"localtime-mmm-dd\" datetime=\"2019-12-06T04:48:03Z\"></time>\n",
       " </p>\n",
       " </li>, <li class=\"poster-container\">\n",
       " <div class=\"poster film-poster really-lazy-load\" data-film-id=\"51556\" data-film-slug=\"/film/die-hard/\" data-image-height=\"225\" data-image-width=\"150\" data-linked=\"linked\" data-menu=\"menu\" data-target-link=\"/film/die-hard/\" data-target-link-target=\"\"> <img alt=\"Die Hard\" class=\"image\" height=\"225\" src=\"https://s.ltrbxd.com/static/img/empty-poster-150.469d00af.png\" width=\"150\"/><span class=\"frame\"><span class=\"frame-title\"></span></span> </div>\n",
       " <p class=\"poster-viewingdata\">\n",
       " <span class=\"rating rated-10\"> ★★★★★ </span>\n",
       " <time class=\"localtime-mmm-dd\" datetime=\"2019-12-06T04:11:38Z\"></time>\n",
       " </p>\n",
       " </li>, <li class=\"poster-container\">\n",
       " <div class=\"poster film-poster really-lazy-load\" data-film-id=\"51733\" data-film-slug=\"/film/jurassic-park/\" data-image-height=\"225\" data-image-width=\"150\" data-linked=\"linked\" data-menu=\"menu\" data-target-link=\"/film/jurassic-park/\" data-target-link-target=\"\"> <img alt=\"Jurassic Park\" class=\"image\" height=\"225\" src=\"https://s.ltrbxd.com/static/img/empty-poster-150.469d00af.png\" width=\"150\"/><span class=\"frame\"><span class=\"frame-title\"></span></span> </div>\n",
       " <p class=\"poster-viewingdata\">\n",
       " <span class=\"rating rated-8\"> ★★★★ </span>\n",
       " <time class=\"localtime-mmm-dd\" datetime=\"2019-12-06T04:47:01Z\"></time>\n",
       " </p>\n",
       " </li>, <li class=\"poster-container\">\n",
       " <div class=\"poster film-poster really-lazy-load\" data-film-id=\"51972\" data-film-slug=\"/film/blade-runner/\" data-image-height=\"225\" data-image-width=\"150\" data-linked=\"linked\" data-menu=\"menu\" data-target-link=\"/film/blade-runner/\" data-target-link-target=\"\"> <img alt=\"Blade Runner\" class=\"image\" height=\"225\" src=\"https://s.ltrbxd.com/static/img/empty-poster-150.469d00af.png\" width=\"150\"/><span class=\"frame\"><span class=\"frame-title\"></span></span> </div>\n",
       " <p class=\"poster-viewingdata\">\n",
       " <span class=\"rating rated-10\"> ★★★★★ </span>\n",
       " <time class=\"localtime-mmm-dd\" datetime=\"2019-12-06T04:40:22Z\"></time>\n",
       " </p>\n",
       " </li>]"
      ]
     },
     "execution_count": 26,
     "metadata": {},
     "output_type": "execute_result"
    }
   ],
   "source": [
    "soup.findAll('ul', class_='poster-list -p150 -grid')[0].findAll('li')"
   ]
  },
  {
   "cell_type": "markdown",
   "metadata": {},
   "source": [
    "Looks like we get a ranking (in star characters, will need to clean that up to use it later on), along with a link to the film's page itself where we will be able to access more info (actors, director, etc.). \n",
    "\n",
    "Okay, how do we attack the specific elements of a given entry in this list so we can extract the movie's URL and star rating?"
   ]
  },
  {
   "cell_type": "code",
   "execution_count": 48,
   "metadata": {},
   "outputs": [],
   "source": [
    "movies_on_page = soup.findAll('ul', class_='poster-list -p150 -grid')[0].findAll('li')"
   ]
  },
  {
   "cell_type": "code",
   "execution_count": 69,
   "metadata": {
    "collapsed": true
   },
   "outputs": [
    {
     "name": "stdout",
     "output_type": "stream",
     "text": [
      "/film/the-empire-strikes-back/\n",
      "★★★★★\n",
      "/film/the-dark-knight/\n",
      "★★★★★\n",
      "/film/the-shawshank-redemption/\n",
      "★★★★★\n",
      "/film/the-lord-of-the-rings-the-return-of-the-king/\n",
      "★★★★½\n",
      "/film/the-lord-of-the-rings-the-fellowship-of-the-ring/\n",
      "★★★★★\n",
      "/film/star-wars/\n",
      "★★★★½\n",
      "/film/the-lion-king/\n",
      "★★★★½\n",
      "/film/the-lord-of-the-rings-the-two-towers/\n",
      "★★★★½\n",
      "/film/raiders-of-the-lost-ark/\n",
      "★★★★½\n",
      "/film/toy-story/\n",
      "★★★★★\n",
      "/film/terminator-2-judgment-day/\n",
      "★★★★★\n",
      "/film/mad-max-fury-road/\n",
      "★★★★★\n",
      "/film/the-departed/\n",
      "★★★★★\n",
      "/film/saving-private-ryan/\n",
      "★★★★★\n",
      "/film/the-iron-giant/\n",
      "★★★★½\n",
      "/film/die-hard/\n",
      "★★★★★\n",
      "/film/jurassic-park/\n",
      "★★★★\n",
      "/film/blade-runner/\n",
      "★★★★★\n"
     ]
    }
   ],
   "source": [
    "for i in range(len(movies_on_page)):\n",
    "    print(movies_on_page[i].find('div', class_='poster film-poster really-lazy-load')['data-target-link'])\n",
    "    print(movies_on_page[i].find('p').find('span').text.strip())"
   ]
  },
  {
   "cell_type": "markdown",
   "metadata": {},
   "source": [
    "Looks like we're able to get the user's rating and a URL for the film so we'll be able to get more info about it.\n",
    "\n",
    "Next up: Let's start scraping from a movie's page on here so we can access that detailed info about the film. Let's start with attributes that are on the Letterboxd website (title, actors, director, audience rating, genres) and then we can get crazy with items we'll need to scrape IMDb for (box office, release date, awards, etc.)."
   ]
  },
  {
   "cell_type": "markdown",
   "metadata": {},
   "source": [
    "We'll use *The Fellowship of the Ring* as our working example here."
   ]
  },
  {
   "cell_type": "code",
   "execution_count": 73,
   "metadata": {},
   "outputs": [],
   "source": [
    "film_to_scrape = '/film/the-lord-of-the-rings-the-fellowship-of-the-ring/'\n",
    "response = requests.get(base_url+film_to_scrape).text\n",
    "soup = bs(response)"
   ]
  },
  {
   "cell_type": "markdown",
   "metadata": {},
   "source": [
    "Let's say we want to grab the Director(s), Producer(s), Writer(s) and Composer(s).\n",
    "\n",
    "We'll put these into a list and eventually iterate over them. First, let's get it working just for the Director."
   ]
  },
  {
   "cell_type": "code",
   "execution_count": 270,
   "metadata": {},
   "outputs": [],
   "source": [
    "# Categories (Director, Producers, Writers, etc.) of crewmembers available\n",
    "available_roles = soup.find('div', class_='tabbed-content-block column-block').findAll('span')\n",
    "\n",
    "# Same information in a list without HTML tags\n",
    "available_roles_list = [tag.text.lower() for tag in available_roles]\n",
    "\n",
    "# Init the crew list\n",
    "crew_list = []\n",
    "\n",
    "for i in range(len(available_roles_list)):\n",
    "    crew_dict = {}\n",
    "    \n",
    "    # Role is just whatever role we're on \n",
    "    crew_dict['crew_role'] = available_roles_list[i]\n",
    "    \n",
    "    # Find the list of names and URLs for a given role\n",
    "    crew_attr_list = soup.find('div', class_='tabbed-content-block column-block').findAll('div')[i].findAll('a')\n",
    "    \n",
    "    # Creates a list of names for the given role\n",
    "    crew_dict['crew_names'] = [crew.text for crew in crew_attr_list]\n",
    "    \n",
    "    # Creates a list of URLs for the given role\n",
    "    crew_dict['crew_urls'] = [crew['href'] for crew in crew_attr_list]\n",
    "    \n",
    "    # Append to our growing list\n",
    "    crew_list.append(crew_dict)"
   ]
  },
  {
   "cell_type": "markdown",
   "metadata": {},
   "source": [
    "Later on we can build out a big, nested JSON with information about the specific people too. But for now, their names, roles and URLs will suffice.\n",
    "\n",
    "Let's grab more information about the movie first. How about the cast?"
   ]
  },
  {
   "cell_type": "code",
   "execution_count": 278,
   "metadata": {},
   "outputs": [],
   "source": [
    "# Let's maybe limit this to the first 25 cast members\n",
    "max_cast_returned = 25\n",
    "available_cast = soup.find('div', class_='cast-list text-sluglist').findAll('a', class_='text-slug tooltip')\n",
    "\n",
    "cast_list = []\n",
    "\n",
    "for i in range(min(len(available_cast), max_cast_returned)):\n",
    "    cast_dict = {}\n",
    "    cast_dict['actor_name'] = available_cast[i].text\n",
    "    cast_dict['actor_role'] = available_cast[i]['title']\n",
    "    cast_dict['actor_url'] = available_cast[i]['href']\n",
    "    cast_list.append(cast_dict)"
   ]
  },
  {
   "cell_type": "markdown",
   "metadata": {},
   "source": [
    "Let's get the title next and then the average rating among all reviewers, along with the total number of reviews the film has. "
   ]
  },
  {
   "cell_type": "code",
   "execution_count": 286,
   "metadata": {},
   "outputs": [],
   "source": [
    "movie_title = soup.find('h1', class_='headline-1 js-widont prettify').text.strip()"
   ]
  },
  {
   "cell_type": "code",
   "execution_count": 319,
   "metadata": {},
   "outputs": [],
   "source": [
    "small_soup = bs(requests.get(base_url + soup.find('aside', class_='sidebar').find('div', class_='js-csi')['data-src']).text)\n",
    "movie_avg_rating = small_soup.find('span', class_='average-rating').find('a').text"
   ]
  },
  {
   "cell_type": "code",
   "execution_count": null,
   "metadata": {},
   "outputs": [],
   "source": []
  }
 ],
 "metadata": {
  "kernelspec": {
   "display_name": "Python 3",
   "language": "python",
   "name": "python3"
  },
  "language_info": {
   "codemirror_mode": {
    "name": "ipython",
    "version": 3
   },
   "file_extension": ".py",
   "mimetype": "text/x-python",
   "name": "python",
   "nbconvert_exporter": "python",
   "pygments_lexer": "ipython3",
   "version": "3.7.1"
  }
 },
 "nbformat": 4,
 "nbformat_minor": 2
}
