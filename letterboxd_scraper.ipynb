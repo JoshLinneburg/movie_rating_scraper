{
 "cells": [
  {
   "cell_type": "markdown",
   "metadata": {},
   "source": [
    "Let's get started! \n",
    "\n",
    "As always, we start by importing our libraries. "
   ]
  },
  {
   "cell_type": "code",
   "execution_count": 1,
   "metadata": {},
   "outputs": [],
   "source": [
    "from bs4 import BeautifulSoup as bs\n",
    "import json\n",
    "import matplotlib as mpl\n",
    "import pandas\n",
    "import re\n",
    "import requests\n",
    "import seaborn as sns\n",
    "import unicodedata as uni"
   ]
  },
  {
   "cell_type": "markdown",
   "metadata": {},
   "source": [
    "First, let's setup the URLs that'll be driving our data analytics project here."
   ]
  },
  {
   "cell_type": "code",
   "execution_count": 2,
   "metadata": {},
   "outputs": [],
   "source": [
    "base_url = 'https://letterboxd.com/'\n",
    "account_name = 'JoshLinneburg'\n",
    "ratings_url = base_url + account_name + '/films/ratings/by/rating/'"
   ]
  },
  {
   "cell_type": "markdown",
   "metadata": {},
   "source": [
    "And let's just scrape the webpage of interest; the films by rating on my account."
   ]
  },
  {
   "cell_type": "code",
   "execution_count": 3,
   "metadata": {},
   "outputs": [],
   "source": [
    "response = requests.get(ratings_url).text\n",
    "soup = bs(response)"
   ]
  },
  {
   "cell_type": "markdown",
   "metadata": {},
   "source": [
    "First thing we're going to do: Figure out how to itemize the films that have been rated *on a single page*"
   ]
  },
  {
   "cell_type": "code",
   "execution_count": 4,
   "metadata": {
    "scrolled": true
   },
   "outputs": [
    {
     "data": {
      "text/plain": [
       "[<li class=\"poster-container\">\n",
       " <div class=\"poster film-poster really-lazy-load\" data-film-id=\"50713\" data-film-slug=\"/film/the-empire-strikes-back/\" data-image-height=\"225\" data-image-width=\"150\" data-linked=\"linked\" data-menu=\"menu\" data-target-link=\"/film/the-empire-strikes-back/\" data-target-link-target=\"\"> <img alt=\"The Empire Strikes Back\" class=\"image\" height=\"225\" src=\"https://s.ltrbxd.com/static/img/empty-poster-150.469d00af.png\" width=\"150\"/><span class=\"frame\"><span class=\"frame-title\"></span></span> </div>\n",
       " <p class=\"poster-viewingdata\">\n",
       " <span class=\"rating rated-10\"> ★★★★★ </span>\n",
       " <time class=\"localtime-mmm-dd\" datetime=\"2019-12-06T04:24:11Z\"></time>\n",
       " </p>\n",
       " </li>, <li class=\"poster-container\">\n",
       " <div class=\"poster film-poster really-lazy-load\" data-film-id=\"51896\" data-film-slug=\"/film/the-dark-knight/\" data-image-height=\"225\" data-image-width=\"150\" data-linked=\"linked\" data-menu=\"menu\" data-target-link=\"/film/the-dark-knight/\" data-target-link-target=\"\"> <img alt=\"The Dark Knight\" class=\"image\" height=\"225\" src=\"https://s.ltrbxd.com/static/img/empty-poster-150.469d00af.png\" width=\"150\"/><span class=\"frame\"><span class=\"frame-title\"></span></span> </div>\n",
       " <p class=\"poster-viewingdata\">\n",
       " <span class=\"rating rated-10\"> ★★★★★ </span>\n",
       " <time class=\"localtime-mmm-dd\" datetime=\"2019-12-06T16:33:06Z\"></time>\n",
       " </p>\n",
       " </li>, <li class=\"poster-container\">\n",
       " <div class=\"poster film-poster really-lazy-load\" data-film-id=\"51778\" data-film-slug=\"/film/the-shawshank-redemption/\" data-image-height=\"225\" data-image-width=\"150\" data-linked=\"linked\" data-menu=\"menu\" data-target-link=\"/film/the-shawshank-redemption/\" data-target-link-target=\"\"> <img alt=\"The Shawshank Redemption\" class=\"image\" height=\"225\" src=\"https://s.ltrbxd.com/static/img/empty-poster-150.469d00af.png\" width=\"150\"/><span class=\"frame\"><span class=\"frame-title\"></span></span> </div>\n",
       " <p class=\"poster-viewingdata\">\n",
       " <span class=\"rating rated-10\"> ★★★★★ </span>\n",
       " <time class=\"localtime-mmm-dd\" datetime=\"2019-12-06T04:34:32Z\"></time>\n",
       " </p>\n",
       " </li>, <li class=\"poster-container\">\n",
       " <div class=\"poster film-poster really-lazy-load\" data-film-id=\"51928\" data-film-slug=\"/film/the-lord-of-the-rings-the-return-of-the-king/\" data-image-height=\"225\" data-image-width=\"150\" data-linked=\"linked\" data-menu=\"menu\" data-target-link=\"/film/the-lord-of-the-rings-the-return-of-the-king/\" data-target-link-target=\"\"> <img alt=\"The Lord of the Rings: The Return of the King\" class=\"image\" height=\"225\" src=\"https://s.ltrbxd.com/static/img/empty-poster-150.469d00af.png\" width=\"150\"/><span class=\"frame\"><span class=\"frame-title\"></span></span> </div>\n",
       " <p class=\"poster-viewingdata\">\n",
       " <span class=\"rating rated-9\"> ★★★★½ </span>\n",
       " <time class=\"localtime-mmm-dd\" datetime=\"2019-12-06T04:33:44Z\"></time>\n",
       " </p>\n",
       " </li>, <li class=\"poster-container\">\n",
       " <div class=\"poster film-poster really-lazy-load\" data-film-id=\"51930\" data-film-slug=\"/film/the-lord-of-the-rings-the-fellowship-of-the-ring/\" data-image-height=\"225\" data-image-width=\"150\" data-linked=\"linked\" data-menu=\"menu\" data-target-link=\"/film/the-lord-of-the-rings-the-fellowship-of-the-ring/\" data-target-link-target=\"\"> <img alt=\"The Lord of the Rings: The Fellowship of the Ring\" class=\"image\" height=\"225\" src=\"https://s.ltrbxd.com/static/img/empty-poster-150.469d00af.png\" width=\"150\"/><span class=\"frame\"><span class=\"frame-title\"></span></span> </div>\n",
       " <p class=\"poster-viewingdata\">\n",
       " <span class=\"rating rated-10\"> ★★★★★ </span>\n",
       " <time class=\"localtime-mmm-dd\" datetime=\"2019-12-06T03:57:43Z\"></time>\n",
       " </p>\n",
       " </li>, <li class=\"poster-container\">\n",
       " <div class=\"poster film-poster really-lazy-load\" data-film-id=\"2706\" data-film-slug=\"/film/star-wars/\" data-image-height=\"225\" data-image-width=\"150\" data-linked=\"linked\" data-menu=\"menu\" data-target-link=\"/film/star-wars/\" data-target-link-target=\"\"> <img alt=\"Star Wars\" class=\"image\" height=\"225\" src=\"https://s.ltrbxd.com/static/img/empty-poster-150.469d00af.png\" width=\"150\"/><span class=\"frame\"><span class=\"frame-title\"></span></span> </div>\n",
       " <p class=\"poster-viewingdata\">\n",
       " <span class=\"rating rated-9\"> ★★★★½ </span>\n",
       " <time class=\"localtime-mmm-dd\" datetime=\"2019-12-06T04:39:09Z\"></time>\n",
       " </p>\n",
       " </li>, <li class=\"poster-container\">\n",
       " <div class=\"poster film-poster really-lazy-load\" data-film-id=\"47677\" data-film-slug=\"/film/the-lion-king/\" data-image-height=\"225\" data-image-width=\"150\" data-linked=\"linked\" data-menu=\"menu\" data-target-link=\"/film/the-lion-king/\" data-target-link-target=\"\"> <img alt=\"The Lion King\" class=\"image\" height=\"225\" src=\"https://s.ltrbxd.com/static/img/empty-poster-150.469d00af.png\" width=\"150\"/><span class=\"frame\"><span class=\"frame-title\"></span></span> </div>\n",
       " <p class=\"poster-viewingdata\">\n",
       " <span class=\"rating rated-9\"> ★★★★½ </span>\n",
       " <time class=\"localtime-mmm-dd\" datetime=\"2019-12-06T16:34:07Z\"></time>\n",
       " </p>\n",
       " </li>, <li class=\"poster-container\">\n",
       " <div class=\"poster film-poster really-lazy-load\" data-film-id=\"51929\" data-film-slug=\"/film/the-lord-of-the-rings-the-two-towers/\" data-image-height=\"225\" data-image-width=\"150\" data-linked=\"linked\" data-menu=\"menu\" data-target-link=\"/film/the-lord-of-the-rings-the-two-towers/\" data-target-link-target=\"\"> <img alt=\"The Lord of the Rings: The Two Towers\" class=\"image\" height=\"225\" src=\"https://s.ltrbxd.com/static/img/empty-poster-150.469d00af.png\" width=\"150\"/><span class=\"frame\"><span class=\"frame-title\"></span></span> </div>\n",
       " <p class=\"poster-viewingdata\">\n",
       " <span class=\"rating rated-9\"> ★★★★½ </span>\n",
       " <time class=\"localtime-mmm-dd\" datetime=\"2019-12-06T04:33:36Z\"></time>\n",
       " </p>\n",
       " </li>, <li class=\"poster-container\">\n",
       " <div class=\"poster film-poster really-lazy-load\" data-film-id=\"51965\" data-film-slug=\"/film/raiders-of-the-lost-ark/\" data-image-height=\"225\" data-image-width=\"150\" data-linked=\"linked\" data-menu=\"menu\" data-target-link=\"/film/raiders-of-the-lost-ark/\" data-target-link-target=\"\"> <img alt=\"Raiders of the Lost Ark\" class=\"image\" height=\"225\" src=\"https://s.ltrbxd.com/static/img/empty-poster-150.469d00af.png\" width=\"150\"/><span class=\"frame\"><span class=\"frame-title\"></span></span> </div>\n",
       " <p class=\"poster-viewingdata\">\n",
       " <span class=\"rating rated-9\"> ★★★★½ </span>\n",
       " <time class=\"localtime-mmm-dd\" datetime=\"2019-12-06T04:39:13Z\"></time>\n",
       " </p>\n",
       " </li>, <li class=\"poster-container\">\n",
       " <div class=\"poster film-poster really-lazy-load\" data-film-id=\"51290\" data-film-slug=\"/film/toy-story/\" data-image-height=\"225\" data-image-width=\"150\" data-linked=\"linked\" data-menu=\"menu\" data-target-link=\"/film/toy-story/\" data-target-link-target=\"\"> <img alt=\"Toy Story\" class=\"image\" height=\"225\" src=\"https://s.ltrbxd.com/static/img/empty-poster-150.469d00af.png\" width=\"150\"/><span class=\"frame\"><span class=\"frame-title\"></span></span> </div>\n",
       " <p class=\"poster-viewingdata\">\n",
       " <span class=\"rating rated-10\"> ★★★★★ </span>\n",
       " <time class=\"localtime-mmm-dd\" datetime=\"2019-12-06T04:34:45Z\"></time>\n",
       " </p>\n",
       " </li>, <li class=\"poster-container\">\n",
       " <div class=\"poster film-poster really-lazy-load\" data-film-id=\"51776\" data-film-slug=\"/film/terminator-2-judgment-day/\" data-image-height=\"225\" data-image-width=\"150\" data-linked=\"linked\" data-menu=\"menu\" data-target-link=\"/film/terminator-2-judgment-day/\" data-target-link-target=\"\"> <img alt=\"Terminator 2: Judgment Day\" class=\"image\" height=\"225\" src=\"https://s.ltrbxd.com/static/img/empty-poster-150.469d00af.png\" width=\"150\"/><span class=\"frame\"><span class=\"frame-title\"></span></span> </div>\n",
       " <p class=\"poster-viewingdata\">\n",
       " <span class=\"rating rated-10\"> ★★★★★ </span>\n",
       " <time class=\"localtime-mmm-dd\" datetime=\"2019-12-06T04:37:09Z\"></time>\n",
       " </p>\n",
       " </li>, <li class=\"poster-container\">\n",
       " <div class=\"poster film-poster really-lazy-load\" data-film-id=\"62780\" data-film-slug=\"/film/mad-max-fury-road/\" data-image-height=\"225\" data-image-width=\"150\" data-linked=\"linked\" data-menu=\"menu\" data-target-link=\"/film/mad-max-fury-road/\" data-target-link-target=\"\"> <img alt=\"Mad Max: Fury Road\" class=\"image\" height=\"225\" src=\"https://s.ltrbxd.com/static/img/empty-poster-150.469d00af.png\" width=\"150\"/><span class=\"frame\"><span class=\"frame-title\"></span></span> </div>\n",
       " <p class=\"poster-viewingdata\">\n",
       " <span class=\"rating rated-10\"> ★★★★★ </span>\n",
       " <time class=\"localtime-mmm-dd\" datetime=\"2019-12-06T03:44:38Z\"></time>\n",
       " </p>\n",
       " </li>, <li class=\"poster-container\">\n",
       " <div class=\"poster film-poster really-lazy-load\" data-film-id=\"51042\" data-film-slug=\"/film/the-departed/\" data-image-height=\"225\" data-image-width=\"150\" data-linked=\"linked\" data-menu=\"menu\" data-target-link=\"/film/the-departed/\" data-target-link-target=\"\"> <img alt=\"The Departed\" class=\"image\" height=\"225\" src=\"https://s.ltrbxd.com/static/img/empty-poster-150.469d00af.png\" width=\"150\"/><span class=\"frame\"><span class=\"frame-title\"></span></span> </div>\n",
       " <p class=\"poster-viewingdata\">\n",
       " <span class=\"rating rated-10\"> ★★★★★ </span>\n",
       " <time class=\"localtime-mmm-dd\" datetime=\"2019-12-06T16:32:53Z\"></time>\n",
       " </p>\n",
       " </li>, <li class=\"poster-container\">\n",
       " <div class=\"poster film-poster really-lazy-load\" data-film-id=\"51295\" data-film-slug=\"/film/saving-private-ryan/\" data-image-height=\"225\" data-image-width=\"150\" data-linked=\"linked\" data-menu=\"menu\" data-target-link=\"/film/saving-private-ryan/\" data-target-link-target=\"\"> <img alt=\"Saving Private Ryan\" class=\"image\" height=\"225\" src=\"https://s.ltrbxd.com/static/img/empty-poster-150.469d00af.png\" width=\"150\"/><span class=\"frame\"><span class=\"frame-title\"></span></span> </div>\n",
       " <p class=\"poster-viewingdata\">\n",
       " <span class=\"rating rated-10\"> ★★★★★ </span>\n",
       " <time class=\"localtime-mmm-dd\" datetime=\"2019-12-06T04:41:13Z\"></time>\n",
       " </p>\n",
       " </li>, <li class=\"poster-container\">\n",
       " <div class=\"poster film-poster really-lazy-load\" data-film-id=\"46280\" data-film-slug=\"/film/the-iron-giant/\" data-image-height=\"225\" data-image-width=\"150\" data-linked=\"linked\" data-menu=\"menu\" data-target-link=\"/film/the-iron-giant/\" data-target-link-target=\"\"> <img alt=\"The Iron Giant\" class=\"image\" height=\"225\" src=\"https://s.ltrbxd.com/static/img/empty-poster-150.469d00af.png\" width=\"150\"/><span class=\"frame\"><span class=\"frame-title\"></span></span> </div>\n",
       " <p class=\"poster-viewingdata\">\n",
       " <span class=\"rating rated-9\"> ★★★★½ </span>\n",
       " <time class=\"localtime-mmm-dd\" datetime=\"2019-12-06T04:48:03Z\"></time>\n",
       " </p>\n",
       " </li>, <li class=\"poster-container\">\n",
       " <div class=\"poster film-poster really-lazy-load\" data-film-id=\"51556\" data-film-slug=\"/film/die-hard/\" data-image-height=\"225\" data-image-width=\"150\" data-linked=\"linked\" data-menu=\"menu\" data-target-link=\"/film/die-hard/\" data-target-link-target=\"\"> <img alt=\"Die Hard\" class=\"image\" height=\"225\" src=\"https://s.ltrbxd.com/static/img/empty-poster-150.469d00af.png\" width=\"150\"/><span class=\"frame\"><span class=\"frame-title\"></span></span> </div>\n",
       " <p class=\"poster-viewingdata\">\n",
       " <span class=\"rating rated-10\"> ★★★★★ </span>\n",
       " <time class=\"localtime-mmm-dd\" datetime=\"2019-12-06T04:11:38Z\"></time>\n",
       " </p>\n",
       " </li>, <li class=\"poster-container\">\n",
       " <div class=\"poster film-poster really-lazy-load\" data-film-id=\"51733\" data-film-slug=\"/film/jurassic-park/\" data-image-height=\"225\" data-image-width=\"150\" data-linked=\"linked\" data-menu=\"menu\" data-target-link=\"/film/jurassic-park/\" data-target-link-target=\"\"> <img alt=\"Jurassic Park\" class=\"image\" height=\"225\" src=\"https://s.ltrbxd.com/static/img/empty-poster-150.469d00af.png\" width=\"150\"/><span class=\"frame\"><span class=\"frame-title\"></span></span> </div>\n",
       " <p class=\"poster-viewingdata\">\n",
       " <span class=\"rating rated-8\"> ★★★★ </span>\n",
       " <time class=\"localtime-mmm-dd\" datetime=\"2019-12-06T04:47:01Z\"></time>\n",
       " </p>\n",
       " </li>, <li class=\"poster-container\">\n",
       " <div class=\"poster film-poster really-lazy-load\" data-film-id=\"51972\" data-film-slug=\"/film/blade-runner/\" data-image-height=\"225\" data-image-width=\"150\" data-linked=\"linked\" data-menu=\"menu\" data-target-link=\"/film/blade-runner/\" data-target-link-target=\"\"> <img alt=\"Blade Runner\" class=\"image\" height=\"225\" src=\"https://s.ltrbxd.com/static/img/empty-poster-150.469d00af.png\" width=\"150\"/><span class=\"frame\"><span class=\"frame-title\"></span></span> </div>\n",
       " <p class=\"poster-viewingdata\">\n",
       " <span class=\"rating rated-10\"> ★★★★★ </span>\n",
       " <time class=\"localtime-mmm-dd\" datetime=\"2019-12-06T04:40:22Z\"></time>\n",
       " </p>\n",
       " </li>]"
      ]
     },
     "execution_count": 4,
     "metadata": {},
     "output_type": "execute_result"
    }
   ],
   "source": [
    "soup.findAll('ul', class_='poster-list -p150 -grid')[0].findAll('li')"
   ]
  },
  {
   "cell_type": "markdown",
   "metadata": {},
   "source": [
    "Looks like we get a ranking (in star characters, will need to clean that up to use it later on), along with a link to the film's page itself where we will be able to access more info (actors, director, etc.). \n",
    "\n",
    "Okay, how do we attack the specific elements of a given entry in this list so we can extract the movie's URL and star rating?"
   ]
  },
  {
   "cell_type": "code",
   "execution_count": 5,
   "metadata": {},
   "outputs": [],
   "source": [
    "movies_on_page = soup.findAll('ul', class_='poster-list -p150 -grid')[0].findAll('li')"
   ]
  },
  {
   "cell_type": "code",
   "execution_count": 6,
   "metadata": {
    "scrolled": true
   },
   "outputs": [
    {
     "name": "stdout",
     "output_type": "stream",
     "text": [
      "/film/the-empire-strikes-back/\n",
      "★★★★★\n",
      "/film/the-dark-knight/\n",
      "★★★★★\n",
      "/film/the-shawshank-redemption/\n",
      "★★★★★\n",
      "/film/the-lord-of-the-rings-the-return-of-the-king/\n",
      "★★★★½\n",
      "/film/the-lord-of-the-rings-the-fellowship-of-the-ring/\n",
      "★★★★★\n",
      "/film/star-wars/\n",
      "★★★★½\n",
      "/film/the-lion-king/\n",
      "★★★★½\n",
      "/film/the-lord-of-the-rings-the-two-towers/\n",
      "★★★★½\n",
      "/film/raiders-of-the-lost-ark/\n",
      "★★★★½\n",
      "/film/toy-story/\n",
      "★★★★★\n",
      "/film/terminator-2-judgment-day/\n",
      "★★★★★\n",
      "/film/mad-max-fury-road/\n",
      "★★★★★\n",
      "/film/the-departed/\n",
      "★★★★★\n",
      "/film/saving-private-ryan/\n",
      "★★★★★\n",
      "/film/the-iron-giant/\n",
      "★★★★½\n",
      "/film/die-hard/\n",
      "★★★★★\n",
      "/film/jurassic-park/\n",
      "★★★★\n",
      "/film/blade-runner/\n",
      "★★★★★\n"
     ]
    }
   ],
   "source": [
    "for i in range(len(movies_on_page)):\n",
    "    print(movies_on_page[i].find('div', class_='poster film-poster really-lazy-load')['data-target-link'])\n",
    "    print(movies_on_page[i].find('p').find('span').text.strip())"
   ]
  },
  {
   "cell_type": "markdown",
   "metadata": {},
   "source": [
    "Looks like we're able to get the user's rating and a URL for the film so we'll be able to get more info about it.\n",
    "\n",
    "Next up: Let's start scraping from a movie's page on here so we can access that detailed info about the film. Let's start with attributes that are on the Letterboxd website (title, actors, director, audience rating, genres) and then we can get crazy with items we'll need to scrape IMDb for (box office, release date, awards, etc.)."
   ]
  },
  {
   "cell_type": "markdown",
   "metadata": {},
   "source": [
    "We'll use *The Fellowship of the Ring* as our working example here."
   ]
  },
  {
   "cell_type": "code",
   "execution_count": 7,
   "metadata": {},
   "outputs": [],
   "source": [
    "film_to_scrape = '/film/the-lord-of-the-rings-the-fellowship-of-the-ring/'\n",
    "response = requests.get(base_url+film_to_scrape).text\n",
    "soup = bs(response)"
   ]
  },
  {
   "cell_type": "markdown",
   "metadata": {},
   "source": [
    "Let's figure out how we can grab the "
   ]
  },
  {
   "cell_type": "code",
   "execution_count": 27,
   "metadata": {},
   "outputs": [
    {
     "ename": "NameError",
     "evalue": "name 'available_role_list' is not defined",
     "output_type": "error",
     "traceback": [
      "\u001b[1;31m---------------------------------------------------------------------------\u001b[0m",
      "\u001b[1;31mNameError\u001b[0m                                 Traceback (most recent call last)",
      "\u001b[1;32m<ipython-input-27-39a3ba03c791>\u001b[0m in \u001b[0;36m<module>\u001b[1;34m()\u001b[0m\n\u001b[1;32m----> 1\u001b[1;33m \u001b[0mavailable_role_list\u001b[0m\u001b[1;33m\u001b[0m\u001b[0m\n\u001b[0m",
      "\u001b[1;31mNameError\u001b[0m: name 'available_role_list' is not defined"
     ]
    }
   ],
   "source": [
    "available_role_list"
   ]
  },
  {
   "cell_type": "code",
   "execution_count": 39,
   "metadata": {},
   "outputs": [],
   "source": [
    "# Categories (Director, Producers, Writers, etc.) of crewmembers available\n",
    "crew_roles_avail = soup.find('div', class_='tabbed-content-block column-block').findAll('span')\n",
    "\n",
    "# Same information in a list without HTML tags\n",
    "crew_roles_avail_list = [tag.text.lower() for tag in crew_roles_avail]\n",
    "\n",
    "# Init the crew list\n",
    "crew_list = []\n",
    "\n",
    "for i in range(len(crew_roles_avail_list)):\n",
    "    crew_dict = {}\n",
    "    \n",
    "    # Role is just whatever role we're on \n",
    "    crew_dict['crew_role'] = crew_roles_avail_list[i]\n",
    "    \n",
    "    # Find the list of names and URLs for a given role\n",
    "    crew_attributes_list = soup.find('div', class_='tabbed-content-block column-block').findAll('div')[i].findAll('a')\n",
    "    \n",
    "    # Init an \"inner\" list - a list of dictionaries containing the name and URL of each crewmember\n",
    "    inner_crew_list = [] \n",
    "    \n",
    "    for i in range(len(crew_attributes_list)):\n",
    "        inner_crew_dict = {}\n",
    "        \n",
    "        # Crewmember name\n",
    "        inner_crew_dict['name'] = crew_attributes_list[i].text\n",
    "        \n",
    "        # Crewmember URL\n",
    "        inner_crew_dict['url'] = crew_attributes_list[i]['href']\n",
    "        \n",
    "        # Append this inner list to the inner dictionary\n",
    "        inner_crew_list.append(inner_crew_dict)\n",
    "    \n",
    "    # Add our completed inner list to the outer dictionary\n",
    "    crew_dict['crew_attributes'] = inner_crew_list\n",
    "    \n",
    "    # Append to our growing list\n",
    "    crew_list.append(crew_dict)"
   ]
  },
  {
   "cell_type": "code",
   "execution_count": 45,
   "metadata": {},
   "outputs": [
    {
     "data": {
      "text/plain": [
       "[{'crew_role': 'director',\n",
       "  'crew_attributes': [{'name': 'Peter Jackson',\n",
       "    'url': '/director/peter-jackson/'}]},\n",
       " {'crew_role': 'producers',\n",
       "  'crew_attributes': [{'name': 'Barrie M. Osborne',\n",
       "    'url': '/producer/barrie-m-osborne/'},\n",
       "   {'name': 'Peter Jackson', 'url': '/producer/peter-jackson/'},\n",
       "   {'name': 'Bob Weinstein', 'url': '/producer/bob-weinstein/'},\n",
       "   {'name': 'Harvey Weinstein', 'url': '/producer/harvey-weinstein/'},\n",
       "   {'name': 'Mark Ordesky', 'url': '/producer/mark-ordesky/'},\n",
       "   {'name': 'Michael Lynne', 'url': '/producer/michael-lynne/'},\n",
       "   {'name': 'Fran Walsh', 'url': '/producer/fran-walsh/'},\n",
       "   {'name': 'Robert Shaye', 'url': '/producer/robert-shaye/'},\n",
       "   {'name': 'Tim Sanders', 'url': '/producer/tim-sanders/'}]},\n",
       " {'crew_role': 'writers',\n",
       "  'crew_attributes': [{'name': 'Peter Jackson',\n",
       "    'url': '/writer/peter-jackson/'},\n",
       "   {'name': 'J.R.R. Tolkien', 'url': '/writer/jrr-tolkien/'},\n",
       "   {'name': 'Fran Walsh', 'url': '/writer/fran-walsh/'},\n",
       "   {'name': 'Philippa Boyens', 'url': '/writer/philippa-boyens/'}]},\n",
       " {'crew_role': 'editor',\n",
       "  'crew_attributes': [{'name': 'John Gilbert',\n",
       "    'url': '/editor/john-gilbert-4/'}]},\n",
       " {'crew_role': 'cinematography',\n",
       "  'crew_attributes': [{'name': 'Andrew Lesnie',\n",
       "    'url': '/cinematography/andrew-lesnie-1/'}]},\n",
       " {'crew_role': 'production design',\n",
       "  'crew_attributes': [{'name': 'Grant Major',\n",
       "    'url': '/production-design/grant-major/'},\n",
       "   {'name': 'Joe Bleakley', 'url': '/production-design/joe-bleakley/'},\n",
       "   {'name': 'Philip Ivey', 'url': '/production-design/philip-ivey/'},\n",
       "   {'name': 'Rob Outterside', 'url': '/production-design/rob-outterside/'},\n",
       "   {'name': 'Mark Robins', 'url': '/production-design/mark-robins/'},\n",
       "   {'name': 'Alan Lee', 'url': '/production-design/alan-lee-1/'},\n",
       "   {'name': 'John Howe', 'url': '/production-design/john-howe-1/'},\n",
       "   {'name': 'Jules Cook', 'url': '/production-design/jules-cook/'},\n",
       "   {'name': 'Chris Hennah', 'url': '/production-design/chris-hennah/'},\n",
       "   {'name': 'Jacqui Allen', 'url': '/production-design/jacqui-allen/'},\n",
       "   {'name': 'Ross McGarva', 'url': '/production-design/ross-mcgarva-1/'}]},\n",
       " {'crew_role': 'visual effects',\n",
       "  'crew_attributes': [{'name': 'Mark O. Forker',\n",
       "    'url': '/visual-effects/mark-o-forker/'},\n",
       "   {'name': 'Paul Lasaine', 'url': '/visual-effects/paul-lasaine/'},\n",
       "   {'name': 'Mark Stetson', 'url': '/visual-effects/mark-stetson/'},\n",
       "   {'name': 'Charlie McClellan', 'url': '/visual-effects/charlie-mcclellan/'},\n",
       "   {'name': 'Geoff Dixon', 'url': '/visual-effects/geoff-dixon/'},\n",
       "   {'name': 'Dean Lyon', 'url': '/visual-effects/dean-lyon/'},\n",
       "   {'name': \"Kelly L'Estrange\", 'url': '/visual-effects/kelly-lestrange/'},\n",
       "   {'name': 'Jim Rygiel', 'url': '/visual-effects/jim-rygiel/'},\n",
       "   {'name': 'Eileen Moran', 'url': '/visual-effects/eileen-moran/'},\n",
       "   {'name': 'Randall William Cook',\n",
       "    'url': '/visual-effects/randall-william-cook/'},\n",
       "   {'name': 'Steen Bech', 'url': '/visual-effects/steen-bech/'}]},\n",
       " {'crew_role': 'composer',\n",
       "  'crew_attributes': [{'name': 'Howard Shore',\n",
       "    'url': '/composer/howard-shore/'}]},\n",
       " {'crew_role': 'sound',\n",
       "  'crew_attributes': [{'name': 'Christopher Boyes',\n",
       "    'url': '/sound/christopher-boyes/'},\n",
       "   {'name': 'Brent Burge', 'url': '/sound/brent-burge/'},\n",
       "   {'name': 'David Farmer', 'url': '/sound/david-farmer/'},\n",
       "   {'name': 'Gethin Creagh', 'url': '/sound/gethin-creagh/'},\n",
       "   {'name': 'John McKay', 'url': '/sound/john-mckay-2/'},\n",
       "   {'name': 'Ethan van der Ryn', 'url': '/sound/ethan-van-der-ryn/'},\n",
       "   {'name': 'Michael Semanick', 'url': '/sound/michael-semanick/'},\n",
       "   {'name': 'Tim Nielsen', 'url': '/sound/tim-nielsen/'},\n",
       "   {'name': 'Mike Hopkins', 'url': '/sound/mike-hopkins-1/'},\n",
       "   {'name': 'Ken Saville', 'url': '/sound/ken-saville/'},\n",
       "   {'name': 'Craig Tomlinson', 'url': '/sound/craig-tomlinson/'},\n",
       "   {'name': 'Hammond Peek', 'url': '/sound/hammond-peek/'},\n",
       "   {'name': 'Malcolm Cromie', 'url': '/sound/malcolm-cromie/'}]},\n",
       " {'crew_role': 'costumes',\n",
       "  'crew_attributes': [{'name': 'Ngila Dickson',\n",
       "    'url': '/costumes/ngila-dickson/'},\n",
       "   {'name': 'Richard Taylor', 'url': '/costumes/richard-taylor-4/'}]},\n",
       " {'crew_role': 'make-up',\n",
       "  'crew_attributes': [{'name': 'Jeremy Woodhead',\n",
       "    'url': '/make-up/jeremy-woodhead/'},\n",
       "   {'name': 'Rick Findlater', 'url': '/make-up/rick-findlater/'},\n",
       "   {'name': 'Margaret Aston', 'url': '/make-up/margaret-aston/'},\n",
       "   {'name': 'Noreen Wilkie', 'url': '/make-up/noreen-wilkie/'},\n",
       "   {'name': 'Janine Schneider', 'url': '/make-up/janine-schneider/'},\n",
       "   {'name': 'Nancy Hennah', 'url': '/make-up/nancy-hennah/'},\n",
       "   {'name': 'Catherine Maguire', 'url': '/make-up/catherine-maguire/'},\n",
       "   {'name': 'Davina Lamont', 'url': '/make-up/davina-lamont/'},\n",
       "   {'name': 'Linda Wall', 'url': '/make-up/linda-wall/'},\n",
       "   {'name': 'Vivienne MacGillicuddy',\n",
       "    'url': '/make-up/vivienne-macgillicuddy/'},\n",
       "   {'name': 'Kerryn Flewell-Smith', 'url': '/make-up/kerryn-flewell-smith/'},\n",
       "   {'name': 'Mark Kinaston-Smith', 'url': '/make-up/mark-kinaston-smith/'},\n",
       "   {'name': 'Emma Moncrieff', 'url': '/make-up/emma-moncrieff/'},\n",
       "   {'name': 'Allie Rutherford', 'url': '/make-up/allie-rutherford/'},\n",
       "   {'name': 'Lenore Stewart', 'url': '/make-up/lenore-stewart/'},\n",
       "   {'name': 'Tanya Travis', 'url': '/make-up/tanya-travis/'},\n",
       "   {'name': 'Tera Treanor', 'url': '/make-up/tera-treanor/'},\n",
       "   {'name': 'Bronwyn Knott', 'url': '/make-up/bronwyn-knott/'},\n",
       "   {'name': 'Laurelle Ziento', 'url': '/make-up/laurelle-ziento/'}]}]"
      ]
     },
     "execution_count": 45,
     "metadata": {},
     "output_type": "execute_result"
    }
   ],
   "source": [
    "crew_list"
   ]
  },
  {
   "cell_type": "markdown",
   "metadata": {},
   "source": [
    "Let's grab more information about the movie first. How about the cast?"
   ]
  },
  {
   "cell_type": "code",
   "execution_count": 9,
   "metadata": {},
   "outputs": [],
   "source": [
    "# Let's maybe limit this to the first 25 cast members\n",
    "max_cast_returned = 25\n",
    "available_cast = soup.find('div', class_='cast-list text-sluglist').findAll('a', class_='text-slug tooltip')\n",
    "\n",
    "cast_list = []\n",
    "\n",
    "for i in range(min(len(available_cast), max_cast_returned)):\n",
    "    cast_dict = {}\n",
    "    cast_dict['actor_name'] = available_cast[i].text\n",
    "    cast_dict['actor_role'] = available_cast[i]['title']\n",
    "    cast_dict['actor_url'] = available_cast[i]['href']\n",
    "    cast_list.append(cast_dict)"
   ]
  },
  {
   "cell_type": "code",
   "execution_count": 46,
   "metadata": {},
   "outputs": [
    {
     "data": {
      "text/plain": [
       "[{'actor_name': 'Elijah Wood',\n",
       "  'actor_role': 'Frodo Baggins',\n",
       "  'actor_url': '/actor/elijah-wood/'},\n",
       " {'actor_name': 'Ian McKellen',\n",
       "  'actor_role': 'Gandalf the Grey',\n",
       "  'actor_url': '/actor/ian-mckellen/'},\n",
       " {'actor_name': 'Viggo Mortensen',\n",
       "  'actor_role': 'Aragorn',\n",
       "  'actor_url': '/actor/viggo-mortensen/'},\n",
       " {'actor_name': 'Sean Astin',\n",
       "  'actor_role': 'Samwise \"Sam\" Gamgee',\n",
       "  'actor_url': '/actor/sean-astin/'},\n",
       " {'actor_name': 'Liv Tyler',\n",
       "  'actor_role': 'Arwen Evenstar',\n",
       "  'actor_url': '/actor/liv-tyler/'},\n",
       " {'actor_name': 'Orlando Bloom',\n",
       "  'actor_role': 'Legolas',\n",
       "  'actor_url': '/actor/orlando-bloom/'},\n",
       " {'actor_name': 'John Rhys-Davies',\n",
       "  'actor_role': 'Gimli',\n",
       "  'actor_url': '/actor/john-rhys-davies/'},\n",
       " {'actor_name': 'Dominic Monaghan',\n",
       "  'actor_role': 'Meriadoc \"Merry\" Brandybuck',\n",
       "  'actor_url': '/actor/dominic-monaghan/'},\n",
       " {'actor_name': 'Billy Boyd',\n",
       "  'actor_role': 'Peregrin \"Pippin\" Took',\n",
       "  'actor_url': '/actor/billy-boyd/'},\n",
       " {'actor_name': 'Sean Bean',\n",
       "  'actor_role': 'Boromir',\n",
       "  'actor_url': '/actor/sean-bean/'},\n",
       " {'actor_name': 'Andy Serkis',\n",
       "  'actor_role': 'Gollum / Witch-king of Angmar (voice)',\n",
       "  'actor_url': '/actor/andy-serkis/'},\n",
       " {'actor_name': 'Cate Blanchett',\n",
       "  'actor_role': 'Galadriel',\n",
       "  'actor_url': '/actor/cate-blanchett/'},\n",
       " {'actor_name': 'Christopher Lee',\n",
       "  'actor_role': 'Saruman',\n",
       "  'actor_url': '/actor/christopher-lee/'},\n",
       " {'actor_name': 'Hugo Weaving',\n",
       "  'actor_role': 'Elrond',\n",
       "  'actor_url': '/actor/hugo-weaving/'},\n",
       " {'actor_name': 'Ian Holm',\n",
       "  'actor_role': 'Bilbo Baggins',\n",
       "  'actor_url': '/actor/ian-holm/'},\n",
       " {'actor_name': 'Marton Csokas',\n",
       "  'actor_role': 'Celeborn',\n",
       "  'actor_url': '/actor/marton-csokas/'},\n",
       " {'actor_name': 'Craig Parker',\n",
       "  'actor_role': 'Haldir',\n",
       "  'actor_url': '/actor/craig-parker/'},\n",
       " {'actor_name': 'Lawrence Makoare',\n",
       "  'actor_role': 'Lurtz',\n",
       "  'actor_url': '/actor/lawrence-makoare/'},\n",
       " {'actor_name': 'Sala Baker',\n",
       "  'actor_role': 'Sauron / Lugdush',\n",
       "  'actor_url': '/actor/sala-baker/'},\n",
       " {'actor_name': 'Sarah McLeod',\n",
       "  'actor_role': 'Rose \"Rosie\" Cotton',\n",
       "  'actor_url': '/actor/sarah-mcleod/'},\n",
       " {'actor_name': 'Alan Howard',\n",
       "  'actor_role': 'The Ring (voice) / Sauron (voice)',\n",
       "  'actor_url': '/actor/alan-howard/'},\n",
       " {'actor_name': 'Noel Appleby',\n",
       "  'actor_role': 'Everard Proudfoot',\n",
       "  'actor_url': '/actor/noel-appleby/'},\n",
       " {'actor_name': 'Megan Edwards',\n",
       "  'actor_role': 'Mrs. Proudfoot',\n",
       "  'actor_url': '/actor/megan-edwards-2/'},\n",
       " {'actor_name': 'Mark Ferguson',\n",
       "  'actor_role': 'Ereinion Gil-galad',\n",
       "  'actor_url': '/actor/mark-ferguson-1/'},\n",
       " {'actor_name': 'Brent McIntyre',\n",
       "  'actor_role': 'Witch-king of Angmar',\n",
       "  'actor_url': '/actor/brent-mcintyre-1/'}]"
      ]
     },
     "execution_count": 46,
     "metadata": {},
     "output_type": "execute_result"
    }
   ],
   "source": [
    "cast_list"
   ]
  },
  {
   "cell_type": "markdown",
   "metadata": {},
   "source": [
    "Let's get the title next and then the average rating among all reviewers."
   ]
  },
  {
   "cell_type": "code",
   "execution_count": 10,
   "metadata": {},
   "outputs": [],
   "source": [
    "movie_title = soup.find('h1', class_='headline-1 js-widont prettify').text.strip()"
   ]
  },
  {
   "cell_type": "code",
   "execution_count": 11,
   "metadata": {},
   "outputs": [],
   "source": [
    "small_soup = bs(requests.get(base_url + soup.find('aside', class_='sidebar').find('div', class_='js-csi')['data-src']).text)\n",
    "movie_avg_rating = small_soup.find('span', class_='average-rating').find('a').text"
   ]
  }
 ],
 "metadata": {
  "kernelspec": {
   "display_name": "Python 3",
   "language": "python",
   "name": "python3"
  },
  "language_info": {
   "codemirror_mode": {
    "name": "ipython",
    "version": 3
   },
   "file_extension": ".py",
   "mimetype": "text/x-python",
   "name": "python",
   "nbconvert_exporter": "python",
   "pygments_lexer": "ipython3",
   "version": "3.7.0"
  }
 },
 "nbformat": 4,
 "nbformat_minor": 2
}
