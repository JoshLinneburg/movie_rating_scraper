{
 "cells": [
  {
   "cell_type": "code",
   "execution_count": null,
   "metadata": {},
   "outputs": [],
   "source": [
    "from bs4 import BeautifulSoup as bs\n",
    "from functools import reduce\n",
    "from pandas.io.json import json_normalize\n",
    "import json\n",
    "import matplotlib as mpl\n",
    "import pandas as pd\n",
    "import re\n",
    "import requests\n",
    "import seaborn as sns\n",
    "import unicodedata as uni\n",
    "import os"
   ]
  },
  {
   "cell_type": "code",
   "execution_count": null,
   "metadata": {},
   "outputs": [],
   "source": [
    "def read_json_to_dict(filename, path_to_file = None, encoding = 'utf-8'):\n",
    "    \n",
    "    path_to_file = reduce(lambda x, y: x if x is not None else y, [path_to_file, os.getcwd().replace('\\\\', '/')])\n",
    "    \n",
    "    if path_to_file[-1:] != '/':\n",
    "        path_to_file = path_to_file + '/'\n",
    "        \n",
    "    full_file_path = path_to_file + '/' + filename\n",
    "    \n",
    "    with open(full_file_path, 'r', encoding = encoding) as file:\n",
    "        data = json.load(file)\n",
    "    \n",
    "    return data\n",
    "        "
   ]
  },
  {
   "cell_type": "code",
   "execution_count": null,
   "metadata": {
    "scrolled": true
   },
   "outputs": [],
   "source": [
    "linneburg_ratings = read_json_to_dict('linneburg.json', 'movie_jsons')"
   ]
  },
  {
   "cell_type": "code",
   "execution_count": 60,
   "metadata": {},
   "outputs": [
    {
     "data": {
      "text/plain": [
       "'director'"
      ]
     },
     "execution_count": 60,
     "metadata": {},
     "output_type": "execute_result"
    }
   ],
   "source": [
    "test = 'directors'\n",
    "test[:-1]"
   ]
  },
  {
   "cell_type": "code",
   "execution_count": null,
   "metadata": {},
   "outputs": [],
   "source": [
    "i = 0\n",
    "while i < 5:\n",
    "    print(linneburg_ratings['movies_rated'][0]['cast']['cast_list'][i]['actor_name'])\n",
    "    i += 1"
   ]
  },
  {
   "cell_type": "code",
   "execution_count": null,
   "metadata": {},
   "outputs": [],
   "source": [
    "for i in range(len(condensed_crew_list)):\n",
    "    print(condensed_crew_list[i])"
   ]
  },
  {
   "cell_type": "code",
   "execution_count": 49,
   "metadata": {
    "scrolled": true
   },
   "outputs": [
    {
     "data": {
      "text/plain": [
       "[{'crew_role': 'directors',\n",
       "  'number_assigned': 2,\n",
       "  'crew_attributes': [{'name': 'Anthony Russo',\n",
       "    'url': '/director/anthony-russo/'},\n",
       "   {'name': 'Joe Russo', 'url': '/director/joe-russo/'}]},\n",
       " {'crew_role': 'producers',\n",
       "  'number_assigned': 9,\n",
       "  'crew_attributes': [{'name': 'Stan Lee', 'url': '/producer/stan-lee/'},\n",
       "   {'name': 'Kevin Feige', 'url': '/producer/kevin-feige/'},\n",
       "   {'name': 'James Gunn', 'url': '/producer/james-gunn/'},\n",
       "   {'name': 'Jon Favreau', 'url': '/producer/jon-favreau/'},\n",
       "   {'name': 'Michael Grillo', 'url': '/producer/michael-grillo/'},\n",
       "   {'name': 'Victoria Alonso', 'url': '/producer/victoria-alonso/'},\n",
       "   {'name': 'Jason Tamez', 'url': '/producer/jason-tamez/'},\n",
       "   {'name': 'Lulu Morgan', 'url': '/producer/lulu-morgan/'},\n",
       "   {'name': 'Trinh Tran', 'url': '/producer/trinh-tran/'}]},\n",
       " {'crew_role': 'writers',\n",
       "  'number_assigned': 2,\n",
       "  'crew_attributes': [{'name': 'Christopher Markus',\n",
       "    'url': '/writer/christopher-markus/'},\n",
       "   {'name': 'Stephen McFeely', 'url': '/writer/stephen-mcfeely/'}]},\n",
       " {'crew_role': 'editors',\n",
       "  'number_assigned': 2,\n",
       "  'crew_attributes': [{'name': 'Jeffrey Ford', 'url': '/editor/jeffrey-ford/'},\n",
       "   {'name': 'Matthew Schmidt', 'url': '/editor/matthew-schmidt/'}]},\n",
       " {'crew_role': 'cinematography',\n",
       "  'number_assigned': 1,\n",
       "  'crew_attributes': [{'name': 'Trent Opaloch',\n",
       "    'url': '/cinematography/trent-opaloch/'}]},\n",
       " {'crew_role': 'production design',\n",
       "  'number_assigned': 9,\n",
       "  'crew_attributes': [{'name': 'Julian Ashby',\n",
       "    'url': '/production-design/julian-ashby/'},\n",
       "   {'name': 'Charles Wood', 'url': '/production-design/charles-wood-2/'},\n",
       "   {'name': 'Mike Stallion', 'url': '/production-design/mike-stallion/'},\n",
       "   {'name': 'Thomas Brown', 'url': '/production-design/thomas-brown-1/'},\n",
       "   {'name': 'Jordan Crockett', 'url': '/production-design/jordan-crockett/'},\n",
       "   {'name': 'Brian A. Waits', 'url': '/production-design/brian-a-waits/'},\n",
       "   {'name': 'Chris Arnold', 'url': '/production-design/chris-arnold-4/'},\n",
       "   {'name': 'Chris Arnold', 'url': '/production-design/chris-arnold-3/'},\n",
       "   {'name': 'Robert Broadfoot',\n",
       "    'url': '/production-design/robert-broadfoot/'}]},\n",
       " {'crew_role': 'visual effects',\n",
       "  'number_assigned': 10,\n",
       "  'crew_attributes': [{'name': 'Matt Aitken',\n",
       "    'url': '/visual-effects/matt-aitken/'},\n",
       "   {'name': 'Doug Appleton', 'url': '/visual-effects/doug-appleton/'},\n",
       "   {'name': 'Kristine Nadal', 'url': '/visual-effects/kristine-nadal/'},\n",
       "   {'name': 'Ben Cowell-Thomas', 'url': '/visual-effects/ben-cowell-thomas/'},\n",
       "   {'name': 'Louise Aubertin', 'url': '/visual-effects/louise-aubertin/'},\n",
       "   {'name': 'Muhammad Junaid Baig',\n",
       "    'url': '/visual-effects/muhammad-junaid-baig/'},\n",
       "   {'name': 'Tommy Barry', 'url': '/visual-effects/tommy-barry/'},\n",
       "   {'name': 'Bailey Eller', 'url': '/visual-effects/bailey-eller/'},\n",
       "   {'name': 'Alessandra Aucello',\n",
       "    'url': '/visual-effects/alessandra-aucello/'},\n",
       "   {'name': 'Richard Binnington',\n",
       "    'url': '/visual-effects/richard-binnington/'}]},\n",
       " {'crew_role': 'composer',\n",
       "  'number_assigned': 1,\n",
       "  'crew_attributes': [{'name': 'Alan Silvestri',\n",
       "    'url': '/composer/alan-silvestri/'}]},\n",
       " {'crew_role': 'sound',\n",
       "  'number_assigned': 3,\n",
       "  'crew_attributes': [{'name': 'David Farmer', 'url': '/sound/david-farmer/'},\n",
       "   {'name': 'Nia Hansen', 'url': '/sound/nia-hansen/'},\n",
       "   {'name': 'Samson Neslund', 'url': '/sound/samson-neslund/'}]},\n",
       " {'crew_role': 'costumes',\n",
       "  'number_assigned': 11,\n",
       "  'crew_attributes': [{'name': 'Judianna Makovsky',\n",
       "    'url': '/costumes/judianna-makovsky/'},\n",
       "   {'name': 'Nick Scarano', 'url': '/costumes/nick-scarano/'},\n",
       "   {'name': 'Wendy M. Craig', 'url': '/costumes/wendy-m-craig/'},\n",
       "   {'name': 'Myra N. Foy', 'url': '/costumes/myra-n-foy/'},\n",
       "   {'name': 'Jason Blackman', 'url': '/costumes/jason-blackman/'},\n",
       "   {'name': 'Heather Armstrong', 'url': '/costumes/heather-armstrong/'},\n",
       "   {'name': 'Charelle Bronson', 'url': '/costumes/charelle-bronson/'},\n",
       "   {'name': 'Mike Lutz', 'url': '/costumes/mike-lutz-1/'},\n",
       "   {'name': 'Joseph Richard Collins',\n",
       "    'url': '/costumes/joseph-richard-collins/'},\n",
       "   {'name': 'Valerie L. Rudolph', 'url': '/costumes/valerie-l-rudolph/'},\n",
       "   {'name': 'Zak Dee Patmore', 'url': '/costumes/zak-dee-patmore/'}]},\n",
       " {'crew_role': 'make-up',\n",
       "  'number_assigned': 4,\n",
       "  'crew_attributes': [{'name': 'Mary Castor', 'url': '/make-up/mary-castor/'},\n",
       "   {'name': 'Derek Garcia', 'url': '/make-up/derek-garcia/'},\n",
       "   {'name': 'Valerie Patterson', 'url': '/make-up/valerie-patterson/'},\n",
       "   {'name': 'Briky Stone', 'url': '/make-up/briky-stone/'}]}]"
      ]
     },
     "execution_count": 49,
     "metadata": {},
     "output_type": "execute_result"
    }
   ],
   "source": [
    "crew_list"
   ]
  },
  {
   "cell_type": "code",
   "execution_count": 44,
   "metadata": {},
   "outputs": [
    {
     "name": "stdout",
     "output_type": "stream",
     "text": [
      "Anthony Russo: director 0\n",
      "Stan Lee: producer 1\n",
      "Christopher Markus: writer 2\n",
      "Alan Silvestri: composer 7\n"
     ]
    },
    {
     "data": {
      "text/plain": [
       "{'director': 'Anthony Russo',\n",
       " 'producer': 'Stan Lee',\n",
       " 'writer': 'Christopher Markus',\n",
       " 'composer': 'Alan Silvestri'}"
      ]
     },
     "execution_count": 44,
     "metadata": {},
     "output_type": "execute_result"
    }
   ],
   "source": [
    "crew_wanted = ['director', 'producer', 'writer', 'composer']\n",
    "\n",
    "condensed_crew_dict = {}\n",
    "crew_list = linneburg_ratings['movies_rated'][32]['crew']['crew_list']\n",
    "\n",
    "for i in range(len(crew_list)):\n",
    "    for j in range(len(crew_wanted)):\n",
    "        if crew_wanted[j] in crew_list[i]['crew_role']:\n",
    "            condensed_crew_dict[crew_wanted[j]] = crew_list[i]['crew_attributes'][0]['name']\n",
    "            print(crew_list[i]['crew_attributes'][0]['name'] + ': ' + crew_wanted[j] + ' ' + str(i))\n",
    "            \n",
    "condensed_crew_dict"
   ]
  },
  {
   "cell_type": "code",
   "execution_count": 58,
   "metadata": {},
   "outputs": [
    {
     "name": "stdout",
     "output_type": "stream",
     "text": [
      "directors\n",
      "[{'name': 'Anthony Russo', 'url': '/director/anthony-russo/'}, {'name': 'Joe Russo', 'url': '/director/joe-russo/'}]\n",
      "producers\n",
      "[{'name': 'Stan Lee', 'url': '/producer/stan-lee/'}, {'name': 'Kevin Feige', 'url': '/producer/kevin-feige/'}, {'name': 'James Gunn', 'url': '/producer/james-gunn/'}, {'name': 'Jon Favreau', 'url': '/producer/jon-favreau/'}, {'name': 'Michael Grillo', 'url': '/producer/michael-grillo/'}, {'name': 'Victoria Alonso', 'url': '/producer/victoria-alonso/'}, {'name': 'Jason Tamez', 'url': '/producer/jason-tamez/'}, {'name': 'Lulu Morgan', 'url': '/producer/lulu-morgan/'}, {'name': 'Trinh Tran', 'url': '/producer/trinh-tran/'}]\n",
      "writers\n",
      "[{'name': 'Christopher Markus', 'url': '/writer/christopher-markus/'}, {'name': 'Stephen McFeely', 'url': '/writer/stephen-mcfeely/'}]\n",
      "composer\n",
      "[{'name': 'Alan Silvestri', 'url': '/composer/alan-silvestri/'}]\n"
     ]
    }
   ],
   "source": [
    "for i in range(len(crew_list)):\n",
    "    for j in range(len(crew_wanted)):\n",
    "        if crew_wanted[j] in crew_list[i]['crew_role']:\n",
    "            print(crew_list[i]['crew_role'])\n",
    "            print(crew_list[i]['crew_attributes'])"
   ]
  },
  {
   "cell_type": "code",
   "execution_count": null,
   "metadata": {},
   "outputs": [],
   "source": [
    "linneburg_ratings['movies_rated'][32]"
   ]
  }
 ],
 "metadata": {
  "kernelspec": {
   "display_name": "Python 3",
   "language": "python",
   "name": "python3"
  },
  "language_info": {
   "codemirror_mode": {
    "name": "ipython",
    "version": 3
   },
   "file_extension": ".py",
   "mimetype": "text/x-python",
   "name": "python",
   "nbconvert_exporter": "python",
   "pygments_lexer": "ipython3",
   "version": "3.7.0"
  }
 },
 "nbformat": 4,
 "nbformat_minor": 2
}
